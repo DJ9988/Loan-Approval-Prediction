{
 "cells": [
  {
   "cell_type": "code",
   "execution_count": 1,
   "id": "a3f292c9",
   "metadata": {
    "_cell_guid": "b1076dfc-b9ad-4769-8c92-a6c4dae69d19",
    "_uuid": "8f2839f25d086af736a60e9eeb907d3b93b6e0e5",
    "execution": {
     "iopub.execute_input": "2024-10-19T13:49:47.846466Z",
     "iopub.status.busy": "2024-10-19T13:49:47.845842Z",
     "iopub.status.idle": "2024-10-19T13:49:49.018198Z",
     "shell.execute_reply": "2024-10-19T13:49:49.016569Z"
    },
    "papermill": {
     "duration": 1.1892,
     "end_time": "2024-10-19T13:49:49.021830",
     "exception": false,
     "start_time": "2024-10-19T13:49:47.832630",
     "status": "completed"
    },
    "tags": []
   },
   "outputs": [],
   "source": [
    "import pandas as pd\n",
    "import numpy as np"
   ]
  },
  {
   "cell_type": "code",
   "execution_count": 3,
   "id": "942cbe07",
   "metadata": {
    "execution": {
     "iopub.execute_input": "2024-10-19T13:49:49.047012Z",
     "iopub.status.busy": "2024-10-19T13:49:49.045427Z",
     "iopub.status.idle": "2024-10-19T13:49:49.350332Z",
     "shell.execute_reply": "2024-10-19T13:49:49.348782Z"
    },
    "papermill": {
     "duration": 0.321196,
     "end_time": "2024-10-19T13:49:49.353906",
     "exception": false,
     "start_time": "2024-10-19T13:49:49.032710",
     "status": "completed"
    },
    "tags": []
   },
   "outputs": [],
   "source": [
    "train = pd.read_csv(\"train.csv\", index_col = \"id\")"
   ]
  },
  {
   "cell_type": "code",
   "execution_count": 4,
   "id": "f79e3e40",
   "metadata": {
    "execution": {
     "iopub.execute_input": "2024-10-19T13:49:49.376381Z",
     "iopub.status.busy": "2024-10-19T13:49:49.375928Z",
     "iopub.status.idle": "2024-10-19T13:49:49.413914Z",
     "shell.execute_reply": "2024-10-19T13:49:49.412359Z"
    },
    "papermill": {
     "duration": 0.053307,
     "end_time": "2024-10-19T13:49:49.417397",
     "exception": false,
     "start_time": "2024-10-19T13:49:49.364090",
     "status": "completed"
    },
    "tags": []
   },
   "outputs": [
    {
     "data": {
      "text/html": [
       "<div>\n",
       "<style scoped>\n",
       "    .dataframe tbody tr th:only-of-type {\n",
       "        vertical-align: middle;\n",
       "    }\n",
       "\n",
       "    .dataframe tbody tr th {\n",
       "        vertical-align: top;\n",
       "    }\n",
       "\n",
       "    .dataframe thead th {\n",
       "        text-align: right;\n",
       "    }\n",
       "</style>\n",
       "<table border=\"1\" class=\"dataframe\">\n",
       "  <thead>\n",
       "    <tr style=\"text-align: right;\">\n",
       "      <th></th>\n",
       "      <th>person_age</th>\n",
       "      <th>person_income</th>\n",
       "      <th>person_home_ownership</th>\n",
       "      <th>person_emp_length</th>\n",
       "      <th>loan_intent</th>\n",
       "      <th>loan_grade</th>\n",
       "      <th>loan_amnt</th>\n",
       "      <th>loan_int_rate</th>\n",
       "      <th>loan_percent_income</th>\n",
       "      <th>cb_person_default_on_file</th>\n",
       "      <th>cb_person_cred_hist_length</th>\n",
       "      <th>loan_status</th>\n",
       "    </tr>\n",
       "    <tr>\n",
       "      <th>id</th>\n",
       "      <th></th>\n",
       "      <th></th>\n",
       "      <th></th>\n",
       "      <th></th>\n",
       "      <th></th>\n",
       "      <th></th>\n",
       "      <th></th>\n",
       "      <th></th>\n",
       "      <th></th>\n",
       "      <th></th>\n",
       "      <th></th>\n",
       "      <th></th>\n",
       "    </tr>\n",
       "  </thead>\n",
       "  <tbody>\n",
       "    <tr>\n",
       "      <th>0</th>\n",
       "      <td>37</td>\n",
       "      <td>35000</td>\n",
       "      <td>RENT</td>\n",
       "      <td>0.0</td>\n",
       "      <td>EDUCATION</td>\n",
       "      <td>B</td>\n",
       "      <td>6000</td>\n",
       "      <td>11.49</td>\n",
       "      <td>0.17</td>\n",
       "      <td>N</td>\n",
       "      <td>14</td>\n",
       "      <td>0</td>\n",
       "    </tr>\n",
       "    <tr>\n",
       "      <th>1</th>\n",
       "      <td>22</td>\n",
       "      <td>56000</td>\n",
       "      <td>OWN</td>\n",
       "      <td>6.0</td>\n",
       "      <td>MEDICAL</td>\n",
       "      <td>C</td>\n",
       "      <td>4000</td>\n",
       "      <td>13.35</td>\n",
       "      <td>0.07</td>\n",
       "      <td>N</td>\n",
       "      <td>2</td>\n",
       "      <td>0</td>\n",
       "    </tr>\n",
       "    <tr>\n",
       "      <th>2</th>\n",
       "      <td>29</td>\n",
       "      <td>28800</td>\n",
       "      <td>OWN</td>\n",
       "      <td>8.0</td>\n",
       "      <td>PERSONAL</td>\n",
       "      <td>A</td>\n",
       "      <td>6000</td>\n",
       "      <td>8.90</td>\n",
       "      <td>0.21</td>\n",
       "      <td>N</td>\n",
       "      <td>10</td>\n",
       "      <td>0</td>\n",
       "    </tr>\n",
       "    <tr>\n",
       "      <th>3</th>\n",
       "      <td>30</td>\n",
       "      <td>70000</td>\n",
       "      <td>RENT</td>\n",
       "      <td>14.0</td>\n",
       "      <td>VENTURE</td>\n",
       "      <td>B</td>\n",
       "      <td>12000</td>\n",
       "      <td>11.11</td>\n",
       "      <td>0.17</td>\n",
       "      <td>N</td>\n",
       "      <td>5</td>\n",
       "      <td>0</td>\n",
       "    </tr>\n",
       "    <tr>\n",
       "      <th>4</th>\n",
       "      <td>22</td>\n",
       "      <td>60000</td>\n",
       "      <td>RENT</td>\n",
       "      <td>2.0</td>\n",
       "      <td>MEDICAL</td>\n",
       "      <td>A</td>\n",
       "      <td>6000</td>\n",
       "      <td>6.92</td>\n",
       "      <td>0.10</td>\n",
       "      <td>N</td>\n",
       "      <td>3</td>\n",
       "      <td>0</td>\n",
       "    </tr>\n",
       "    <tr>\n",
       "      <th>...</th>\n",
       "      <td>...</td>\n",
       "      <td>...</td>\n",
       "      <td>...</td>\n",
       "      <td>...</td>\n",
       "      <td>...</td>\n",
       "      <td>...</td>\n",
       "      <td>...</td>\n",
       "      <td>...</td>\n",
       "      <td>...</td>\n",
       "      <td>...</td>\n",
       "      <td>...</td>\n",
       "      <td>...</td>\n",
       "    </tr>\n",
       "    <tr>\n",
       "      <th>58640</th>\n",
       "      <td>34</td>\n",
       "      <td>120000</td>\n",
       "      <td>MORTGAGE</td>\n",
       "      <td>5.0</td>\n",
       "      <td>EDUCATION</td>\n",
       "      <td>D</td>\n",
       "      <td>25000</td>\n",
       "      <td>15.95</td>\n",
       "      <td>0.21</td>\n",
       "      <td>Y</td>\n",
       "      <td>10</td>\n",
       "      <td>0</td>\n",
       "    </tr>\n",
       "    <tr>\n",
       "      <th>58641</th>\n",
       "      <td>28</td>\n",
       "      <td>28800</td>\n",
       "      <td>RENT</td>\n",
       "      <td>0.0</td>\n",
       "      <td>MEDICAL</td>\n",
       "      <td>C</td>\n",
       "      <td>10000</td>\n",
       "      <td>12.73</td>\n",
       "      <td>0.35</td>\n",
       "      <td>N</td>\n",
       "      <td>8</td>\n",
       "      <td>1</td>\n",
       "    </tr>\n",
       "    <tr>\n",
       "      <th>58642</th>\n",
       "      <td>23</td>\n",
       "      <td>44000</td>\n",
       "      <td>RENT</td>\n",
       "      <td>7.0</td>\n",
       "      <td>EDUCATION</td>\n",
       "      <td>D</td>\n",
       "      <td>6800</td>\n",
       "      <td>16.00</td>\n",
       "      <td>0.15</td>\n",
       "      <td>N</td>\n",
       "      <td>2</td>\n",
       "      <td>1</td>\n",
       "    </tr>\n",
       "    <tr>\n",
       "      <th>58643</th>\n",
       "      <td>22</td>\n",
       "      <td>30000</td>\n",
       "      <td>RENT</td>\n",
       "      <td>2.0</td>\n",
       "      <td>EDUCATION</td>\n",
       "      <td>A</td>\n",
       "      <td>5000</td>\n",
       "      <td>8.90</td>\n",
       "      <td>0.17</td>\n",
       "      <td>N</td>\n",
       "      <td>3</td>\n",
       "      <td>0</td>\n",
       "    </tr>\n",
       "    <tr>\n",
       "      <th>58644</th>\n",
       "      <td>31</td>\n",
       "      <td>75000</td>\n",
       "      <td>MORTGAGE</td>\n",
       "      <td>2.0</td>\n",
       "      <td>VENTURE</td>\n",
       "      <td>B</td>\n",
       "      <td>15000</td>\n",
       "      <td>11.11</td>\n",
       "      <td>0.20</td>\n",
       "      <td>N</td>\n",
       "      <td>5</td>\n",
       "      <td>0</td>\n",
       "    </tr>\n",
       "  </tbody>\n",
       "</table>\n",
       "<p>58645 rows × 12 columns</p>\n",
       "</div>"
      ],
      "text/plain": [
       "       person_age  person_income person_home_ownership  person_emp_length  \\\n",
       "id                                                                          \n",
       "0              37          35000                  RENT                0.0   \n",
       "1              22          56000                   OWN                6.0   \n",
       "2              29          28800                   OWN                8.0   \n",
       "3              30          70000                  RENT               14.0   \n",
       "4              22          60000                  RENT                2.0   \n",
       "...           ...            ...                   ...                ...   \n",
       "58640          34         120000              MORTGAGE                5.0   \n",
       "58641          28          28800                  RENT                0.0   \n",
       "58642          23          44000                  RENT                7.0   \n",
       "58643          22          30000                  RENT                2.0   \n",
       "58644          31          75000              MORTGAGE                2.0   \n",
       "\n",
       "      loan_intent loan_grade  loan_amnt  loan_int_rate  loan_percent_income  \\\n",
       "id                                                                            \n",
       "0       EDUCATION          B       6000          11.49                 0.17   \n",
       "1         MEDICAL          C       4000          13.35                 0.07   \n",
       "2        PERSONAL          A       6000           8.90                 0.21   \n",
       "3         VENTURE          B      12000          11.11                 0.17   \n",
       "4         MEDICAL          A       6000           6.92                 0.10   \n",
       "...           ...        ...        ...            ...                  ...   \n",
       "58640   EDUCATION          D      25000          15.95                 0.21   \n",
       "58641     MEDICAL          C      10000          12.73                 0.35   \n",
       "58642   EDUCATION          D       6800          16.00                 0.15   \n",
       "58643   EDUCATION          A       5000           8.90                 0.17   \n",
       "58644     VENTURE          B      15000          11.11                 0.20   \n",
       "\n",
       "      cb_person_default_on_file  cb_person_cred_hist_length  loan_status  \n",
       "id                                                                        \n",
       "0                             N                          14            0  \n",
       "1                             N                           2            0  \n",
       "2                             N                          10            0  \n",
       "3                             N                           5            0  \n",
       "4                             N                           3            0  \n",
       "...                         ...                         ...          ...  \n",
       "58640                         Y                          10            0  \n",
       "58641                         N                           8            1  \n",
       "58642                         N                           2            1  \n",
       "58643                         N                           3            0  \n",
       "58644                         N                           5            0  \n",
       "\n",
       "[58645 rows x 12 columns]"
      ]
     },
     "execution_count": 4,
     "metadata": {},
     "output_type": "execute_result"
    }
   ],
   "source": [
    "train"
   ]
  },
  {
   "cell_type": "code",
   "execution_count": 5,
   "id": "0107633b",
   "metadata": {
    "execution": {
     "iopub.execute_input": "2024-10-19T13:49:49.440393Z",
     "iopub.status.busy": "2024-10-19T13:49:49.439940Z",
     "iopub.status.idle": "2024-10-19T13:49:49.477998Z",
     "shell.execute_reply": "2024-10-19T13:49:49.476458Z"
    },
    "papermill": {
     "duration": 0.05289,
     "end_time": "2024-10-19T13:49:49.481014",
     "exception": false,
     "start_time": "2024-10-19T13:49:49.428124",
     "status": "completed"
    },
    "tags": []
   },
   "outputs": [
    {
     "data": {
      "text/plain": [
       "person_age                    0\n",
       "person_income                 0\n",
       "person_home_ownership         0\n",
       "person_emp_length             0\n",
       "loan_intent                   0\n",
       "loan_grade                    0\n",
       "loan_amnt                     0\n",
       "loan_int_rate                 0\n",
       "loan_percent_income           0\n",
       "cb_person_default_on_file     0\n",
       "cb_person_cred_hist_length    0\n",
       "loan_status                   0\n",
       "dtype: int64"
      ]
     },
     "execution_count": 5,
     "metadata": {},
     "output_type": "execute_result"
    }
   ],
   "source": [
    "train.isnull().sum()"
   ]
  },
  {
   "cell_type": "code",
   "execution_count": 6,
   "id": "e19abf7b",
   "metadata": {
    "execution": {
     "iopub.execute_input": "2024-10-19T13:49:49.505734Z",
     "iopub.status.busy": "2024-10-19T13:49:49.505266Z",
     "iopub.status.idle": "2024-10-19T13:49:49.528368Z",
     "shell.execute_reply": "2024-10-19T13:49:49.526827Z"
    },
    "papermill": {
     "duration": 0.038542,
     "end_time": "2024-10-19T13:49:49.531327",
     "exception": false,
     "start_time": "2024-10-19T13:49:49.492785",
     "status": "completed"
    },
    "tags": []
   },
   "outputs": [
    {
     "data": {
      "text/plain": [
       "person_home_ownership\n",
       "RENT        30594\n",
       "MORTGAGE    24824\n",
       "OWN          3138\n",
       "OTHER          89\n",
       "Name: count, dtype: int64"
      ]
     },
     "execution_count": 6,
     "metadata": {},
     "output_type": "execute_result"
    }
   ],
   "source": [
    "train['person_home_ownership'].value_counts()"
   ]
  },
  {
   "cell_type": "code",
   "execution_count": 7,
   "id": "2f4b608a",
   "metadata": {
    "execution": {
     "iopub.execute_input": "2024-10-19T13:49:49.554524Z",
     "iopub.status.busy": "2024-10-19T13:49:49.554095Z",
     "iopub.status.idle": "2024-10-19T13:49:49.573529Z",
     "shell.execute_reply": "2024-10-19T13:49:49.572186Z"
    },
    "papermill": {
     "duration": 0.03432,
     "end_time": "2024-10-19T13:49:49.576457",
     "exception": false,
     "start_time": "2024-10-19T13:49:49.542137",
     "status": "completed"
    },
    "tags": []
   },
   "outputs": [
    {
     "data": {
      "text/plain": [
       "loan_intent\n",
       "EDUCATION            12271\n",
       "MEDICAL              10934\n",
       "PERSONAL             10016\n",
       "VENTURE              10011\n",
       "DEBTCONSOLIDATION     9133\n",
       "HOMEIMPROVEMENT       6280\n",
       "Name: count, dtype: int64"
      ]
     },
     "execution_count": 7,
     "metadata": {},
     "output_type": "execute_result"
    }
   ],
   "source": [
    "train['loan_intent'].value_counts()"
   ]
  },
  {
   "cell_type": "code",
   "execution_count": 8,
   "id": "833f5d6b",
   "metadata": {
    "execution": {
     "iopub.execute_input": "2024-10-19T13:49:49.601276Z",
     "iopub.status.busy": "2024-10-19T13:49:49.600805Z",
     "iopub.status.idle": "2024-10-19T13:49:49.620231Z",
     "shell.execute_reply": "2024-10-19T13:49:49.618784Z"
    },
    "papermill": {
     "duration": 0.03535,
     "end_time": "2024-10-19T13:49:49.623087",
     "exception": false,
     "start_time": "2024-10-19T13:49:49.587737",
     "status": "completed"
    },
    "tags": []
   },
   "outputs": [
    {
     "data": {
      "text/plain": [
       "loan_grade\n",
       "A    20984\n",
       "B    20400\n",
       "C    11036\n",
       "D     5034\n",
       "E     1009\n",
       "F      149\n",
       "G       33\n",
       "Name: count, dtype: int64"
      ]
     },
     "execution_count": 8,
     "metadata": {},
     "output_type": "execute_result"
    }
   ],
   "source": [
    "train['loan_grade'].value_counts()"
   ]
  },
  {
   "cell_type": "code",
   "execution_count": 9,
   "id": "e935ca2b",
   "metadata": {
    "execution": {
     "iopub.execute_input": "2024-10-19T13:49:49.650072Z",
     "iopub.status.busy": "2024-10-19T13:49:49.649552Z",
     "iopub.status.idle": "2024-10-19T13:49:49.669438Z",
     "shell.execute_reply": "2024-10-19T13:49:49.667785Z"
    },
    "papermill": {
     "duration": 0.037085,
     "end_time": "2024-10-19T13:49:49.672602",
     "exception": false,
     "start_time": "2024-10-19T13:49:49.635517",
     "status": "completed"
    },
    "tags": []
   },
   "outputs": [
    {
     "data": {
      "text/plain": [
       "cb_person_default_on_file\n",
       "N    49943\n",
       "Y     8702\n",
       "Name: count, dtype: int64"
      ]
     },
     "execution_count": 9,
     "metadata": {},
     "output_type": "execute_result"
    }
   ],
   "source": [
    "train['cb_person_default_on_file'].value_counts()"
   ]
  },
  {
   "cell_type": "code",
   "execution_count": 10,
   "id": "4b0ba295",
   "metadata": {
    "execution": {
     "iopub.execute_input": "2024-10-19T13:49:49.699642Z",
     "iopub.status.busy": "2024-10-19T13:49:49.699143Z",
     "iopub.status.idle": "2024-10-19T13:49:49.733710Z",
     "shell.execute_reply": "2024-10-19T13:49:49.732005Z"
    },
    "papermill": {
     "duration": 0.051904,
     "end_time": "2024-10-19T13:49:49.737210",
     "exception": false,
     "start_time": "2024-10-19T13:49:49.685306",
     "status": "completed"
    },
    "tags": []
   },
   "outputs": [
    {
     "data": {
      "text/plain": [
       "loan_intent        loan_status\n",
       "DEBTCONSOLIDATION  0               7404\n",
       "                   1               1729\n",
       "EDUCATION          0              10949\n",
       "                   1               1322\n",
       "HOMEIMPROVEMENT    0               5189\n",
       "                   1               1091\n",
       "MEDICAL            0               8985\n",
       "                   1               1949\n",
       "PERSONAL           0               8686\n",
       "                   1               1330\n",
       "VENTURE            0               9082\n",
       "                   1                929\n",
       "Name: count, dtype: int64"
      ]
     },
     "execution_count": 10,
     "metadata": {},
     "output_type": "execute_result"
    }
   ],
   "source": [
    "status_count_by_intent = train.groupby('loan_intent')['loan_status']\n",
    "status_count_by_intent.value_counts()"
   ]
  },
  {
   "cell_type": "code",
   "execution_count": 11,
   "id": "76225dff",
   "metadata": {
    "execution": {
     "iopub.execute_input": "2024-10-19T13:49:49.762964Z",
     "iopub.status.busy": "2024-10-19T13:49:49.762482Z",
     "iopub.status.idle": "2024-10-19T13:49:49.787387Z",
     "shell.execute_reply": "2024-10-19T13:49:49.785764Z"
    },
    "papermill": {
     "duration": 0.041892,
     "end_time": "2024-10-19T13:49:49.791091",
     "exception": false,
     "start_time": "2024-10-19T13:49:49.749199",
     "status": "completed"
    },
    "tags": []
   },
   "outputs": [
    {
     "data": {
      "text/plain": [
       "person_home_ownership  loan_status\n",
       "MORTGAGE               0              23341\n",
       "                       1               1483\n",
       "OTHER                  0                 74\n",
       "                       1                 15\n",
       "OWN                    0               3095\n",
       "                       1                 43\n",
       "RENT                   0              23785\n",
       "                       1               6809\n",
       "Name: count, dtype: int64"
      ]
     },
     "execution_count": 11,
     "metadata": {},
     "output_type": "execute_result"
    }
   ],
   "source": [
    "status_count_by_home_ownership = train.groupby('person_home_ownership')['loan_status']\n",
    "status_count_by_home_ownership.value_counts()"
   ]
  },
  {
   "cell_type": "code",
   "execution_count": 12,
   "id": "070dbdc7",
   "metadata": {
    "execution": {
     "iopub.execute_input": "2024-10-19T13:49:49.819093Z",
     "iopub.status.busy": "2024-10-19T13:49:49.818629Z",
     "iopub.status.idle": "2024-10-19T13:49:49.826212Z",
     "shell.execute_reply": "2024-10-19T13:49:49.824676Z"
    },
    "papermill": {
     "duration": 0.026282,
     "end_time": "2024-10-19T13:49:49.829270",
     "exception": false,
     "start_time": "2024-10-19T13:49:49.802988",
     "status": "completed"
    },
    "tags": []
   },
   "outputs": [],
   "source": [
    "def feature_engineer(df):\n",
    "    df['income_to_loan_ratio'] = df['person_income'] / df['loan_amnt']\n",
    "    df['loan_burden'] = (df['loan_int_rate'] * df['loan_amnt']) / df['person_income']\n",
    "    df['income_percentile'] = df['person_income'].rank(pct = True)\n",
    "    return df"
   ]
  },
  {
   "cell_type": "code",
   "execution_count": 13,
   "id": "ae898cab",
   "metadata": {
    "execution": {
     "iopub.execute_input": "2024-10-19T13:49:49.855493Z",
     "iopub.status.busy": "2024-10-19T13:49:49.854976Z",
     "iopub.status.idle": "2024-10-19T13:49:49.895725Z",
     "shell.execute_reply": "2024-10-19T13:49:49.894044Z"
    },
    "papermill": {
     "duration": 0.057958,
     "end_time": "2024-10-19T13:49:49.898891",
     "exception": false,
     "start_time": "2024-10-19T13:49:49.840933",
     "status": "completed"
    },
    "tags": []
   },
   "outputs": [
    {
     "data": {
      "text/html": [
       "<div>\n",
       "<style scoped>\n",
       "    .dataframe tbody tr th:only-of-type {\n",
       "        vertical-align: middle;\n",
       "    }\n",
       "\n",
       "    .dataframe tbody tr th {\n",
       "        vertical-align: top;\n",
       "    }\n",
       "\n",
       "    .dataframe thead th {\n",
       "        text-align: right;\n",
       "    }\n",
       "</style>\n",
       "<table border=\"1\" class=\"dataframe\">\n",
       "  <thead>\n",
       "    <tr style=\"text-align: right;\">\n",
       "      <th></th>\n",
       "      <th>person_age</th>\n",
       "      <th>person_income</th>\n",
       "      <th>person_home_ownership</th>\n",
       "      <th>person_emp_length</th>\n",
       "      <th>loan_intent</th>\n",
       "      <th>loan_grade</th>\n",
       "      <th>loan_amnt</th>\n",
       "      <th>loan_int_rate</th>\n",
       "      <th>loan_percent_income</th>\n",
       "      <th>cb_person_default_on_file</th>\n",
       "      <th>cb_person_cred_hist_length</th>\n",
       "      <th>loan_status</th>\n",
       "      <th>income_to_loan_ratio</th>\n",
       "      <th>loan_burden</th>\n",
       "      <th>income_percentile</th>\n",
       "    </tr>\n",
       "    <tr>\n",
       "      <th>id</th>\n",
       "      <th></th>\n",
       "      <th></th>\n",
       "      <th></th>\n",
       "      <th></th>\n",
       "      <th></th>\n",
       "      <th></th>\n",
       "      <th></th>\n",
       "      <th></th>\n",
       "      <th></th>\n",
       "      <th></th>\n",
       "      <th></th>\n",
       "      <th></th>\n",
       "      <th></th>\n",
       "      <th></th>\n",
       "      <th></th>\n",
       "    </tr>\n",
       "  </thead>\n",
       "  <tbody>\n",
       "    <tr>\n",
       "      <th>0</th>\n",
       "      <td>37</td>\n",
       "      <td>35000</td>\n",
       "      <td>RENT</td>\n",
       "      <td>0.0</td>\n",
       "      <td>EDUCATION</td>\n",
       "      <td>B</td>\n",
       "      <td>6000</td>\n",
       "      <td>11.49</td>\n",
       "      <td>0.17</td>\n",
       "      <td>N</td>\n",
       "      <td>14</td>\n",
       "      <td>0</td>\n",
       "      <td>5.833333</td>\n",
       "      <td>1.969714</td>\n",
       "      <td>0.139603</td>\n",
       "    </tr>\n",
       "    <tr>\n",
       "      <th>1</th>\n",
       "      <td>22</td>\n",
       "      <td>56000</td>\n",
       "      <td>OWN</td>\n",
       "      <td>6.0</td>\n",
       "      <td>MEDICAL</td>\n",
       "      <td>C</td>\n",
       "      <td>4000</td>\n",
       "      <td>13.35</td>\n",
       "      <td>0.07</td>\n",
       "      <td>N</td>\n",
       "      <td>2</td>\n",
       "      <td>0</td>\n",
       "      <td>14.000000</td>\n",
       "      <td>0.953571</td>\n",
       "      <td>0.483784</td>\n",
       "    </tr>\n",
       "    <tr>\n",
       "      <th>2</th>\n",
       "      <td>29</td>\n",
       "      <td>28800</td>\n",
       "      <td>OWN</td>\n",
       "      <td>8.0</td>\n",
       "      <td>PERSONAL</td>\n",
       "      <td>A</td>\n",
       "      <td>6000</td>\n",
       "      <td>8.90</td>\n",
       "      <td>0.21</td>\n",
       "      <td>N</td>\n",
       "      <td>10</td>\n",
       "      <td>0</td>\n",
       "      <td>4.800000</td>\n",
       "      <td>1.854167</td>\n",
       "      <td>0.050951</td>\n",
       "    </tr>\n",
       "    <tr>\n",
       "      <th>3</th>\n",
       "      <td>30</td>\n",
       "      <td>70000</td>\n",
       "      <td>RENT</td>\n",
       "      <td>14.0</td>\n",
       "      <td>VENTURE</td>\n",
       "      <td>B</td>\n",
       "      <td>12000</td>\n",
       "      <td>11.11</td>\n",
       "      <td>0.17</td>\n",
       "      <td>N</td>\n",
       "      <td>5</td>\n",
       "      <td>0</td>\n",
       "      <td>5.833333</td>\n",
       "      <td>1.904571</td>\n",
       "      <td>0.677475</td>\n",
       "    </tr>\n",
       "    <tr>\n",
       "      <th>4</th>\n",
       "      <td>22</td>\n",
       "      <td>60000</td>\n",
       "      <td>RENT</td>\n",
       "      <td>2.0</td>\n",
       "      <td>MEDICAL</td>\n",
       "      <td>A</td>\n",
       "      <td>6000</td>\n",
       "      <td>6.92</td>\n",
       "      <td>0.10</td>\n",
       "      <td>N</td>\n",
       "      <td>3</td>\n",
       "      <td>0</td>\n",
       "      <td>10.000000</td>\n",
       "      <td>0.692000</td>\n",
       "      <td>0.546364</td>\n",
       "    </tr>\n",
       "    <tr>\n",
       "      <th>...</th>\n",
       "      <td>...</td>\n",
       "      <td>...</td>\n",
       "      <td>...</td>\n",
       "      <td>...</td>\n",
       "      <td>...</td>\n",
       "      <td>...</td>\n",
       "      <td>...</td>\n",
       "      <td>...</td>\n",
       "      <td>...</td>\n",
       "      <td>...</td>\n",
       "      <td>...</td>\n",
       "      <td>...</td>\n",
       "      <td>...</td>\n",
       "      <td>...</td>\n",
       "      <td>...</td>\n",
       "    </tr>\n",
       "    <tr>\n",
       "      <th>58640</th>\n",
       "      <td>34</td>\n",
       "      <td>120000</td>\n",
       "      <td>MORTGAGE</td>\n",
       "      <td>5.0</td>\n",
       "      <td>EDUCATION</td>\n",
       "      <td>D</td>\n",
       "      <td>25000</td>\n",
       "      <td>15.95</td>\n",
       "      <td>0.21</td>\n",
       "      <td>Y</td>\n",
       "      <td>10</td>\n",
       "      <td>0</td>\n",
       "      <td>4.800000</td>\n",
       "      <td>3.322917</td>\n",
       "      <td>0.942382</td>\n",
       "    </tr>\n",
       "    <tr>\n",
       "      <th>58641</th>\n",
       "      <td>28</td>\n",
       "      <td>28800</td>\n",
       "      <td>RENT</td>\n",
       "      <td>0.0</td>\n",
       "      <td>MEDICAL</td>\n",
       "      <td>C</td>\n",
       "      <td>10000</td>\n",
       "      <td>12.73</td>\n",
       "      <td>0.35</td>\n",
       "      <td>N</td>\n",
       "      <td>8</td>\n",
       "      <td>1</td>\n",
       "      <td>2.880000</td>\n",
       "      <td>4.420139</td>\n",
       "      <td>0.050951</td>\n",
       "    </tr>\n",
       "    <tr>\n",
       "      <th>58642</th>\n",
       "      <td>23</td>\n",
       "      <td>44000</td>\n",
       "      <td>RENT</td>\n",
       "      <td>7.0</td>\n",
       "      <td>EDUCATION</td>\n",
       "      <td>D</td>\n",
       "      <td>6800</td>\n",
       "      <td>16.00</td>\n",
       "      <td>0.15</td>\n",
       "      <td>N</td>\n",
       "      <td>2</td>\n",
       "      <td>1</td>\n",
       "      <td>6.470588</td>\n",
       "      <td>2.472727</td>\n",
       "      <td>0.275190</td>\n",
       "    </tr>\n",
       "    <tr>\n",
       "      <th>58643</th>\n",
       "      <td>22</td>\n",
       "      <td>30000</td>\n",
       "      <td>RENT</td>\n",
       "      <td>2.0</td>\n",
       "      <td>EDUCATION</td>\n",
       "      <td>A</td>\n",
       "      <td>5000</td>\n",
       "      <td>8.90</td>\n",
       "      <td>0.17</td>\n",
       "      <td>N</td>\n",
       "      <td>3</td>\n",
       "      <td>0</td>\n",
       "      <td>6.000000</td>\n",
       "      <td>1.483333</td>\n",
       "      <td>0.077833</td>\n",
       "    </tr>\n",
       "    <tr>\n",
       "      <th>58644</th>\n",
       "      <td>31</td>\n",
       "      <td>75000</td>\n",
       "      <td>MORTGAGE</td>\n",
       "      <td>2.0</td>\n",
       "      <td>VENTURE</td>\n",
       "      <td>B</td>\n",
       "      <td>15000</td>\n",
       "      <td>11.11</td>\n",
       "      <td>0.20</td>\n",
       "      <td>N</td>\n",
       "      <td>5</td>\n",
       "      <td>0</td>\n",
       "      <td>5.000000</td>\n",
       "      <td>2.222000</td>\n",
       "      <td>0.734760</td>\n",
       "    </tr>\n",
       "  </tbody>\n",
       "</table>\n",
       "<p>58645 rows × 15 columns</p>\n",
       "</div>"
      ],
      "text/plain": [
       "       person_age  person_income person_home_ownership  person_emp_length  \\\n",
       "id                                                                          \n",
       "0              37          35000                  RENT                0.0   \n",
       "1              22          56000                   OWN                6.0   \n",
       "2              29          28800                   OWN                8.0   \n",
       "3              30          70000                  RENT               14.0   \n",
       "4              22          60000                  RENT                2.0   \n",
       "...           ...            ...                   ...                ...   \n",
       "58640          34         120000              MORTGAGE                5.0   \n",
       "58641          28          28800                  RENT                0.0   \n",
       "58642          23          44000                  RENT                7.0   \n",
       "58643          22          30000                  RENT                2.0   \n",
       "58644          31          75000              MORTGAGE                2.0   \n",
       "\n",
       "      loan_intent loan_grade  loan_amnt  loan_int_rate  loan_percent_income  \\\n",
       "id                                                                            \n",
       "0       EDUCATION          B       6000          11.49                 0.17   \n",
       "1         MEDICAL          C       4000          13.35                 0.07   \n",
       "2        PERSONAL          A       6000           8.90                 0.21   \n",
       "3         VENTURE          B      12000          11.11                 0.17   \n",
       "4         MEDICAL          A       6000           6.92                 0.10   \n",
       "...           ...        ...        ...            ...                  ...   \n",
       "58640   EDUCATION          D      25000          15.95                 0.21   \n",
       "58641     MEDICAL          C      10000          12.73                 0.35   \n",
       "58642   EDUCATION          D       6800          16.00                 0.15   \n",
       "58643   EDUCATION          A       5000           8.90                 0.17   \n",
       "58644     VENTURE          B      15000          11.11                 0.20   \n",
       "\n",
       "      cb_person_default_on_file  cb_person_cred_hist_length  loan_status  \\\n",
       "id                                                                         \n",
       "0                             N                          14            0   \n",
       "1                             N                           2            0   \n",
       "2                             N                          10            0   \n",
       "3                             N                           5            0   \n",
       "4                             N                           3            0   \n",
       "...                         ...                         ...          ...   \n",
       "58640                         Y                          10            0   \n",
       "58641                         N                           8            1   \n",
       "58642                         N                           2            1   \n",
       "58643                         N                           3            0   \n",
       "58644                         N                           5            0   \n",
       "\n",
       "       income_to_loan_ratio  loan_burden  income_percentile  \n",
       "id                                                           \n",
       "0                  5.833333     1.969714           0.139603  \n",
       "1                 14.000000     0.953571           0.483784  \n",
       "2                  4.800000     1.854167           0.050951  \n",
       "3                  5.833333     1.904571           0.677475  \n",
       "4                 10.000000     0.692000           0.546364  \n",
       "...                     ...          ...                ...  \n",
       "58640              4.800000     3.322917           0.942382  \n",
       "58641              2.880000     4.420139           0.050951  \n",
       "58642              6.470588     2.472727           0.275190  \n",
       "58643              6.000000     1.483333           0.077833  \n",
       "58644              5.000000     2.222000           0.734760  \n",
       "\n",
       "[58645 rows x 15 columns]"
      ]
     },
     "execution_count": 13,
     "metadata": {},
     "output_type": "execute_result"
    }
   ],
   "source": [
    "train = feature_engineer(train)\n",
    "train"
   ]
  },
  {
   "cell_type": "code",
   "execution_count": 14,
   "id": "8147df22",
   "metadata": {
    "execution": {
     "iopub.execute_input": "2024-10-19T13:49:49.925284Z",
     "iopub.status.busy": "2024-10-19T13:49:49.924768Z",
     "iopub.status.idle": "2024-10-19T13:49:49.937202Z",
     "shell.execute_reply": "2024-10-19T13:49:49.935672Z"
    },
    "papermill": {
     "duration": 0.029871,
     "end_time": "2024-10-19T13:49:49.940822",
     "exception": false,
     "start_time": "2024-10-19T13:49:49.910951",
     "status": "completed"
    },
    "tags": []
   },
   "outputs": [],
   "source": [
    "X = train.drop(columns = \"loan_status\")\n",
    "y = train['loan_status']"
   ]
  },
  {
   "cell_type": "code",
   "execution_count": 15,
   "id": "f8be0e6b",
   "metadata": {
    "execution": {
     "iopub.execute_input": "2024-10-19T13:49:49.968938Z",
     "iopub.status.busy": "2024-10-19T13:49:49.968493Z",
     "iopub.status.idle": "2024-10-19T13:49:51.722544Z",
     "shell.execute_reply": "2024-10-19T13:49:51.720865Z"
    },
    "papermill": {
     "duration": 1.772509,
     "end_time": "2024-10-19T13:49:51.726197",
     "exception": false,
     "start_time": "2024-10-19T13:49:49.953688",
     "status": "completed"
    },
    "tags": []
   },
   "outputs": [],
   "source": [
    "from sklearn.model_selection import train_test_split\n",
    "from sklearn.preprocessing import StandardScaler, OneHotEncoder, LabelEncoder"
   ]
  },
  {
   "cell_type": "code",
   "execution_count": 16,
   "id": "11f7719b",
   "metadata": {
    "execution": {
     "iopub.execute_input": "2024-10-19T13:49:51.754171Z",
     "iopub.status.busy": "2024-10-19T13:49:51.753431Z",
     "iopub.status.idle": "2024-10-19T13:49:51.761755Z",
     "shell.execute_reply": "2024-10-19T13:49:51.760454Z"
    },
    "papermill": {
     "duration": 0.026447,
     "end_time": "2024-10-19T13:49:51.765183",
     "exception": false,
     "start_time": "2024-10-19T13:49:51.738736",
     "status": "completed"
    },
    "tags": []
   },
   "outputs": [],
   "source": [
    "num_features = ['person_age', 'person_income', 'person_emp_length', 'loan_amnt', 'loan_percent_income',\n",
    "                 'cb_person_cred_hist_length', 'income_to_loan_ratio', 'loan_burden', 'income_percentile']\n",
    "cat_features = ['person_home_ownership', 'loan_intent', 'loan_grade', 'cb_person_default_on_file']"
   ]
  },
  {
   "cell_type": "code",
   "execution_count": 17,
   "id": "397a3368",
   "metadata": {
    "execution": {
     "iopub.execute_input": "2024-10-19T13:49:51.792844Z",
     "iopub.status.busy": "2024-10-19T13:49:51.792341Z",
     "iopub.status.idle": "2024-10-19T13:49:51.801427Z",
     "shell.execute_reply": "2024-10-19T13:49:51.800073Z"
    },
    "papermill": {
     "duration": 0.02625,
     "end_time": "2024-10-19T13:49:51.804490",
     "exception": false,
     "start_time": "2024-10-19T13:49:51.778240",
     "status": "completed"
    },
    "tags": []
   },
   "outputs": [],
   "source": [
    "scaler = StandardScaler()\n",
    "\n",
    "def preprocessing(df):    \n",
    "    for feature in cat_features:\n",
    "        if df[feature].nunique() <= 2:\n",
    "            df[feature] = LabelEncoder().fit_transform(df[feature])\n",
    "        else:\n",
    "            onehot_encoded = pd.get_dummies(df[feature], prefix=feature, drop_first=True)\n",
    "            onehot_encoded = onehot_encoded.astype(int)\n",
    "            df = pd.concat([df, onehot_encoded], axis=1)\n",
    "            df.drop(columns=[feature], inplace=True)\n",
    "    return df"
   ]
  },
  {
   "cell_type": "code",
   "execution_count": 18,
   "id": "6914630b",
   "metadata": {
    "execution": {
     "iopub.execute_input": "2024-10-19T13:49:51.831709Z",
     "iopub.status.busy": "2024-10-19T13:49:51.831170Z",
     "iopub.status.idle": "2024-10-19T13:49:51.866113Z",
     "shell.execute_reply": "2024-10-19T13:49:51.864746Z"
    },
    "papermill": {
     "duration": 0.052426,
     "end_time": "2024-10-19T13:49:51.869242",
     "exception": false,
     "start_time": "2024-10-19T13:49:51.816816",
     "status": "completed"
    },
    "tags": []
   },
   "outputs": [],
   "source": [
    "X_train, X_valid, y_train, y_valid = train_test_split(X, y, test_size = 0.2, random_state = 42)"
   ]
  },
  {
   "cell_type": "code",
   "execution_count": 19,
   "id": "4e4e343f",
   "metadata": {
    "execution": {
     "iopub.execute_input": "2024-10-19T13:49:51.897377Z",
     "iopub.status.busy": "2024-10-19T13:49:51.896955Z",
     "iopub.status.idle": "2024-10-19T13:49:52.035894Z",
     "shell.execute_reply": "2024-10-19T13:49:52.034397Z"
    },
    "papermill": {
     "duration": 0.156571,
     "end_time": "2024-10-19T13:49:52.039314",
     "exception": false,
     "start_time": "2024-10-19T13:49:51.882743",
     "status": "completed"
    },
    "tags": []
   },
   "outputs": [],
   "source": [
    "X_train = preprocessing(X_train)\n",
    "X_valid = preprocessing(X_valid)"
   ]
  },
  {
   "cell_type": "code",
   "execution_count": 27,
   "id": "dcfe8ecd",
   "metadata": {
    "execution": {
     "iopub.execute_input": "2024-10-19T13:49:52.068646Z",
     "iopub.status.busy": "2024-10-19T13:49:52.068182Z",
     "iopub.status.idle": "2024-10-19T13:49:52.702606Z",
     "shell.execute_reply": "2024-10-19T13:49:52.701365Z"
    },
    "papermill": {
     "duration": 0.652942,
     "end_time": "2024-10-19T13:49:52.707245",
     "exception": false,
     "start_time": "2024-10-19T13:49:52.054303",
     "status": "completed"
    },
    "tags": []
   },
   "outputs": [],
   "source": [
    "from xgboost import XGBClassifier\n",
    "from sklearn.linear_model import LogisticRegression\n",
    "from sklearn.ensemble import RandomForestClassifier, GradientBoostingClassifier"
   ]
  },
  {
   "cell_type": "code",
   "execution_count": 28,
   "id": "c51c15c2",
   "metadata": {
    "execution": {
     "iopub.execute_input": "2024-10-19T13:49:52.743886Z",
     "iopub.status.busy": "2024-10-19T13:49:52.743338Z",
     "iopub.status.idle": "2024-10-19T13:49:52.750338Z",
     "shell.execute_reply": "2024-10-19T13:49:52.749102Z"
    },
    "papermill": {
     "duration": 0.028592,
     "end_time": "2024-10-19T13:49:52.753116",
     "exception": false,
     "start_time": "2024-10-19T13:49:52.724524",
     "status": "completed"
    },
    "tags": []
   },
   "outputs": [],
   "source": [
    "models = {\n",
    "    'Logistic Regression': LogisticRegression(max_iter = 1000),\n",
    "    'Random Forest': RandomForestClassifier(class_weight = \"balanced\"),\n",
    "    'Gradient Boosting': GradientBoostingClassifier(),\n",
    "    'XGBoost': XGBClassifier()\n",
    "}"
   ]
  },
  {
   "cell_type": "code",
   "execution_count": 29,
   "id": "1a01fb2b",
   "metadata": {
    "execution": {
     "iopub.execute_input": "2024-10-19T13:49:52.779635Z",
     "iopub.status.busy": "2024-10-19T13:49:52.779184Z",
     "iopub.status.idle": "2024-10-19T13:49:52.785430Z",
     "shell.execute_reply": "2024-10-19T13:49:52.784090Z"
    },
    "papermill": {
     "duration": 0.023239,
     "end_time": "2024-10-19T13:49:52.788557",
     "exception": false,
     "start_time": "2024-10-19T13:49:52.765318",
     "status": "completed"
    },
    "tags": []
   },
   "outputs": [],
   "source": [
    "from sklearn.metrics import accuracy_score, precision_score, recall_score, f1_score, roc_auc_score"
   ]
  },
  {
   "cell_type": "code",
   "execution_count": 30,
   "id": "eda4a1ca",
   "metadata": {
    "execution": {
     "iopub.execute_input": "2024-10-19T13:49:52.820534Z",
     "iopub.status.busy": "2024-10-19T13:49:52.818845Z",
     "iopub.status.idle": "2024-10-19T13:50:17.800352Z",
     "shell.execute_reply": "2024-10-19T13:50:17.799238Z"
    },
    "papermill": {
     "duration": 25.002587,
     "end_time": "2024-10-19T13:50:17.803266",
     "exception": false,
     "start_time": "2024-10-19T13:49:52.800679",
     "status": "completed"
    },
    "tags": []
   },
   "outputs": [
    {
     "name": "stderr",
     "output_type": "stream",
     "text": [
      "c:\\Users\\Divyanshu\\AppData\\Local\\Programs\\Python\\Python312\\Lib\\site-packages\\sklearn\\linear_model\\_logistic.py:469: ConvergenceWarning: lbfgs failed to converge (status=1):\n",
      "STOP: TOTAL NO. of ITERATIONS REACHED LIMIT.\n",
      "\n",
      "Increase the number of iterations (max_iter) or scale the data as shown in:\n",
      "    https://scikit-learn.org/stable/modules/preprocessing.html\n",
      "Please also refer to the documentation for alternative solver options:\n",
      "    https://scikit-learn.org/stable/modules/linear_model.html#logistic-regression\n",
      "  n_iter_i = _check_optimize_result(\n"
     ]
    },
    {
     "name": "stdout",
     "output_type": "stream",
     "text": [
      "Model: Logistic Regression\n",
      "Accuracy: 0.8691278028817461\n",
      "Precision: 0.526161369193154\n",
      "Recall: 0.6552984165651644\n",
      "F1-Score: 0.5836723623542175\n",
      "ROC-AUC: 0.8625105310956676\n",
      "\n",
      "Model: Random Forest\n",
      "Accuracy: 0.9462869809872965\n",
      "Precision: 0.8677325581395349\n",
      "Recall: 0.7271619975639464\n",
      "F1-Score: 0.7912524850894632\n",
      "ROC-AUC: 0.9410839460397344\n",
      "\n",
      "Model: Gradient Boosting\n",
      "Accuracy: 0.9301730752834854\n",
      "Precision: 0.756386292834891\n",
      "Recall: 0.7393422655298416\n",
      "F1-Score: 0.7477671696951032\n",
      "ROC-AUC: 0.9264375270107434\n",
      "\n",
      "Model: XGBoost\n",
      "Accuracy: 0.9499531076818143\n",
      "Precision: 0.8733191790516631\n",
      "Recall: 0.7515225334957369\n",
      "F1-Score: 0.8078559738134207\n",
      "ROC-AUC: 0.9500982741259447\n",
      "\n"
     ]
    }
   ],
   "source": [
    "model_performance = {}\n",
    "\n",
    "for name, model in models.items():\n",
    "    model.fit(X_train, y_train)\n",
    "    y_pred = model.predict(X_valid)\n",
    "    model_performance[name] = {\n",
    "        'Accuracy': accuracy_score(y_valid, y_pred),\n",
    "        'Precision': precision_score(y_valid, y_pred, average='binary'),\n",
    "        'Recall': recall_score(y_valid, y_pred, average='binary'),\n",
    "        'F1-Score': f1_score(y_valid, y_pred),\n",
    "        'ROC-AUC': roc_auc_score(y_valid, model.predict_proba(X_valid)[:, 1])\n",
    "    }\n",
    "for name, metrics in model_performance.items():\n",
    "    print(f\"Model: {name}\")\n",
    "    for metric, score in metrics.items():\n",
    "        print(f\"{metric}: {score}\")\n",
    "    print()"
   ]
  },
  {
   "cell_type": "code",
   "execution_count": 31,
   "id": "9090861e",
   "metadata": {
    "execution": {
     "iopub.execute_input": "2024-10-19T13:50:17.829964Z",
     "iopub.status.busy": "2024-10-19T13:50:17.829360Z",
     "iopub.status.idle": "2024-10-19T13:50:18.329214Z",
     "shell.execute_reply": "2024-10-19T13:50:18.327662Z"
    },
    "papermill": {
     "duration": 0.517092,
     "end_time": "2024-10-19T13:50:18.332567",
     "exception": false,
     "start_time": "2024-10-19T13:50:17.815475",
     "status": "completed"
    },
    "tags": []
   },
   "outputs": [],
   "source": [
    "from imblearn.over_sampling import SMOTE\n",
    "\n",
    "smote = SMOTE()\n",
    "X_train, y_train = smote.fit_resample(X_train, y_train)"
   ]
  },
  {
   "cell_type": "code",
   "execution_count": 32,
   "id": "2c55f9df",
   "metadata": {
    "execution": {
     "iopub.execute_input": "2024-10-19T13:50:18.361700Z",
     "iopub.status.busy": "2024-10-19T13:50:18.360980Z",
     "iopub.status.idle": "2024-10-19T13:50:21.565876Z",
     "shell.execute_reply": "2024-10-19T13:50:21.564766Z"
    },
    "papermill": {
     "duration": 3.222855,
     "end_time": "2024-10-19T13:50:21.569307",
     "exception": false,
     "start_time": "2024-10-19T13:50:18.346452",
     "status": "completed"
    },
    "tags": []
   },
   "outputs": [],
   "source": [
    "model = XGBClassifier(n_estimators = 400,\n",
    "                      learning_rate = 0.1\n",
    "                     )\n",
    "model.fit(X_train, y_train)\n",
    "\n",
    "y_pred = model.predict(X_valid)"
   ]
  },
  {
   "cell_type": "code",
   "execution_count": 33,
   "id": "e6f316af",
   "metadata": {
    "execution": {
     "iopub.execute_input": "2024-10-19T13:50:21.599477Z",
     "iopub.status.busy": "2024-10-19T13:50:21.598932Z",
     "iopub.status.idle": "2024-10-19T13:50:21.637891Z",
     "shell.execute_reply": "2024-10-19T13:50:21.635982Z"
    },
    "papermill": {
     "duration": 0.056867,
     "end_time": "2024-10-19T13:50:21.641445",
     "exception": false,
     "start_time": "2024-10-19T13:50:21.584578",
     "status": "completed"
    },
    "tags": []
   },
   "outputs": [
    {
     "name": "stdout",
     "output_type": "stream",
     "text": [
      "              precision    recall  f1-score   support\n",
      "\n",
      "           0       0.96      0.98      0.97     10087\n",
      "           1       0.89      0.76      0.82      1642\n",
      "\n",
      "    accuracy                           0.95     11729\n",
      "   macro avg       0.92      0.87      0.89     11729\n",
      "weighted avg       0.95      0.95      0.95     11729\n",
      "\n"
     ]
    }
   ],
   "source": [
    "from sklearn.metrics import classification_report\n",
    "print(classification_report(y_valid, y_pred))"
   ]
  },
  {
   "cell_type": "code",
   "execution_count": null,
   "id": "91c73128",
   "metadata": {},
   "outputs": [],
   "source": []
  },
  {
   "cell_type": "code",
   "execution_count": null,
   "id": "af571038",
   "metadata": {},
   "outputs": [],
   "source": []
  }
 ],
 "metadata": {
  "kaggle": {
   "accelerator": "none",
   "dataSources": [
    {
     "databundleVersionId": 9709193,
     "sourceId": 84894,
     "sourceType": "competition"
    }
   ],
   "dockerImageVersionId": 30786,
   "isGpuEnabled": false,
   "isInternetEnabled": true,
   "language": "python",
   "sourceType": "notebook"
  },
  "kernelspec": {
   "display_name": "Python 3",
   "language": "python",
   "name": "python3"
  },
  "language_info": {
   "codemirror_mode": {
    "name": "ipython",
    "version": 3
   },
   "file_extension": ".py",
   "mimetype": "text/x-python",
   "name": "python",
   "nbconvert_exporter": "python",
   "pygments_lexer": "ipython3",
   "version": "3.12.7"
  },
  "papermill": {
   "default_parameters": {},
   "duration": 38.334094,
   "end_time": "2024-10-19T13:50:22.793410",
   "environment_variables": {},
   "exception": null,
   "input_path": "__notebook__.ipynb",
   "output_path": "__notebook__.ipynb",
   "parameters": {},
   "start_time": "2024-10-19T13:49:44.459316",
   "version": "2.6.0"
  }
 },
 "nbformat": 4,
 "nbformat_minor": 5
}
