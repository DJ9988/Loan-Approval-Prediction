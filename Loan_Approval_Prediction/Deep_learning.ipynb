{
 "cells": [
  {
   "cell_type": "code",
   "execution_count": 1,
   "id": "fc809dff",
   "metadata": {
    "_cell_guid": "b1076dfc-b9ad-4769-8c92-a6c4dae69d19",
    "_uuid": "8f2839f25d086af736a60e9eeb907d3b93b6e0e5",
    "execution": {
     "iopub.execute_input": "2024-10-23T14:36:17.759608Z",
     "iopub.status.busy": "2024-10-23T14:36:17.759204Z",
     "iopub.status.idle": "2024-10-23T14:36:18.529559Z",
     "shell.execute_reply": "2024-10-23T14:36:18.528317Z"
    },
    "papermill": {
     "duration": 0.781396,
     "end_time": "2024-10-23T14:36:18.532343",
     "exception": false,
     "start_time": "2024-10-23T14:36:17.750947",
     "status": "completed"
    },
    "tags": []
   },
   "outputs": [],
   "source": [
    "import pandas as pd\n",
    "import numpy as np"
   ]
  },
  {
   "cell_type": "code",
   "execution_count": 2,
   "id": "ec0730e9",
   "metadata": {
    "execution": {
     "iopub.execute_input": "2024-10-23T14:36:18.547864Z",
     "iopub.status.busy": "2024-10-23T14:36:18.547313Z",
     "iopub.status.idle": "2024-10-23T14:36:18.801768Z",
     "shell.execute_reply": "2024-10-23T14:36:18.800925Z"
    },
    "papermill": {
     "duration": 0.264353,
     "end_time": "2024-10-23T14:36:18.804141",
     "exception": false,
     "start_time": "2024-10-23T14:36:18.539788",
     "status": "completed"
    },
    "tags": []
   },
   "outputs": [],
   "source": [
    "train = pd.read_csv(\"train.csv\", index_col = \"id\")"
   ]
  },
  {
   "cell_type": "code",
   "execution_count": 3,
   "id": "8a6d04df",
   "metadata": {
    "execution": {
     "iopub.execute_input": "2024-10-23T14:36:18.818617Z",
     "iopub.status.busy": "2024-10-23T14:36:18.817982Z",
     "iopub.status.idle": "2024-10-23T14:36:18.843085Z",
     "shell.execute_reply": "2024-10-23T14:36:18.842096Z"
    },
    "papermill": {
     "duration": 0.034786,
     "end_time": "2024-10-23T14:36:18.845395",
     "exception": false,
     "start_time": "2024-10-23T14:36:18.810609",
     "status": "completed"
    },
    "tags": []
   },
   "outputs": [
    {
     "data": {
      "text/html": [
       "<div>\n",
       "<style scoped>\n",
       "    .dataframe tbody tr th:only-of-type {\n",
       "        vertical-align: middle;\n",
       "    }\n",
       "\n",
       "    .dataframe tbody tr th {\n",
       "        vertical-align: top;\n",
       "    }\n",
       "\n",
       "    .dataframe thead th {\n",
       "        text-align: right;\n",
       "    }\n",
       "</style>\n",
       "<table border=\"1\" class=\"dataframe\">\n",
       "  <thead>\n",
       "    <tr style=\"text-align: right;\">\n",
       "      <th></th>\n",
       "      <th>person_age</th>\n",
       "      <th>person_income</th>\n",
       "      <th>person_home_ownership</th>\n",
       "      <th>person_emp_length</th>\n",
       "      <th>loan_intent</th>\n",
       "      <th>loan_grade</th>\n",
       "      <th>loan_amnt</th>\n",
       "      <th>loan_int_rate</th>\n",
       "      <th>loan_percent_income</th>\n",
       "      <th>cb_person_default_on_file</th>\n",
       "      <th>cb_person_cred_hist_length</th>\n",
       "      <th>loan_status</th>\n",
       "    </tr>\n",
       "    <tr>\n",
       "      <th>id</th>\n",
       "      <th></th>\n",
       "      <th></th>\n",
       "      <th></th>\n",
       "      <th></th>\n",
       "      <th></th>\n",
       "      <th></th>\n",
       "      <th></th>\n",
       "      <th></th>\n",
       "      <th></th>\n",
       "      <th></th>\n",
       "      <th></th>\n",
       "      <th></th>\n",
       "    </tr>\n",
       "  </thead>\n",
       "  <tbody>\n",
       "    <tr>\n",
       "      <th>0</th>\n",
       "      <td>37</td>\n",
       "      <td>35000</td>\n",
       "      <td>RENT</td>\n",
       "      <td>0.0</td>\n",
       "      <td>EDUCATION</td>\n",
       "      <td>B</td>\n",
       "      <td>6000</td>\n",
       "      <td>11.49</td>\n",
       "      <td>0.17</td>\n",
       "      <td>N</td>\n",
       "      <td>14</td>\n",
       "      <td>0</td>\n",
       "    </tr>\n",
       "    <tr>\n",
       "      <th>1</th>\n",
       "      <td>22</td>\n",
       "      <td>56000</td>\n",
       "      <td>OWN</td>\n",
       "      <td>6.0</td>\n",
       "      <td>MEDICAL</td>\n",
       "      <td>C</td>\n",
       "      <td>4000</td>\n",
       "      <td>13.35</td>\n",
       "      <td>0.07</td>\n",
       "      <td>N</td>\n",
       "      <td>2</td>\n",
       "      <td>0</td>\n",
       "    </tr>\n",
       "    <tr>\n",
       "      <th>2</th>\n",
       "      <td>29</td>\n",
       "      <td>28800</td>\n",
       "      <td>OWN</td>\n",
       "      <td>8.0</td>\n",
       "      <td>PERSONAL</td>\n",
       "      <td>A</td>\n",
       "      <td>6000</td>\n",
       "      <td>8.90</td>\n",
       "      <td>0.21</td>\n",
       "      <td>N</td>\n",
       "      <td>10</td>\n",
       "      <td>0</td>\n",
       "    </tr>\n",
       "    <tr>\n",
       "      <th>3</th>\n",
       "      <td>30</td>\n",
       "      <td>70000</td>\n",
       "      <td>RENT</td>\n",
       "      <td>14.0</td>\n",
       "      <td>VENTURE</td>\n",
       "      <td>B</td>\n",
       "      <td>12000</td>\n",
       "      <td>11.11</td>\n",
       "      <td>0.17</td>\n",
       "      <td>N</td>\n",
       "      <td>5</td>\n",
       "      <td>0</td>\n",
       "    </tr>\n",
       "    <tr>\n",
       "      <th>4</th>\n",
       "      <td>22</td>\n",
       "      <td>60000</td>\n",
       "      <td>RENT</td>\n",
       "      <td>2.0</td>\n",
       "      <td>MEDICAL</td>\n",
       "      <td>A</td>\n",
       "      <td>6000</td>\n",
       "      <td>6.92</td>\n",
       "      <td>0.10</td>\n",
       "      <td>N</td>\n",
       "      <td>3</td>\n",
       "      <td>0</td>\n",
       "    </tr>\n",
       "    <tr>\n",
       "      <th>...</th>\n",
       "      <td>...</td>\n",
       "      <td>...</td>\n",
       "      <td>...</td>\n",
       "      <td>...</td>\n",
       "      <td>...</td>\n",
       "      <td>...</td>\n",
       "      <td>...</td>\n",
       "      <td>...</td>\n",
       "      <td>...</td>\n",
       "      <td>...</td>\n",
       "      <td>...</td>\n",
       "      <td>...</td>\n",
       "    </tr>\n",
       "    <tr>\n",
       "      <th>58640</th>\n",
       "      <td>34</td>\n",
       "      <td>120000</td>\n",
       "      <td>MORTGAGE</td>\n",
       "      <td>5.0</td>\n",
       "      <td>EDUCATION</td>\n",
       "      <td>D</td>\n",
       "      <td>25000</td>\n",
       "      <td>15.95</td>\n",
       "      <td>0.21</td>\n",
       "      <td>Y</td>\n",
       "      <td>10</td>\n",
       "      <td>0</td>\n",
       "    </tr>\n",
       "    <tr>\n",
       "      <th>58641</th>\n",
       "      <td>28</td>\n",
       "      <td>28800</td>\n",
       "      <td>RENT</td>\n",
       "      <td>0.0</td>\n",
       "      <td>MEDICAL</td>\n",
       "      <td>C</td>\n",
       "      <td>10000</td>\n",
       "      <td>12.73</td>\n",
       "      <td>0.35</td>\n",
       "      <td>N</td>\n",
       "      <td>8</td>\n",
       "      <td>1</td>\n",
       "    </tr>\n",
       "    <tr>\n",
       "      <th>58642</th>\n",
       "      <td>23</td>\n",
       "      <td>44000</td>\n",
       "      <td>RENT</td>\n",
       "      <td>7.0</td>\n",
       "      <td>EDUCATION</td>\n",
       "      <td>D</td>\n",
       "      <td>6800</td>\n",
       "      <td>16.00</td>\n",
       "      <td>0.15</td>\n",
       "      <td>N</td>\n",
       "      <td>2</td>\n",
       "      <td>1</td>\n",
       "    </tr>\n",
       "    <tr>\n",
       "      <th>58643</th>\n",
       "      <td>22</td>\n",
       "      <td>30000</td>\n",
       "      <td>RENT</td>\n",
       "      <td>2.0</td>\n",
       "      <td>EDUCATION</td>\n",
       "      <td>A</td>\n",
       "      <td>5000</td>\n",
       "      <td>8.90</td>\n",
       "      <td>0.17</td>\n",
       "      <td>N</td>\n",
       "      <td>3</td>\n",
       "      <td>0</td>\n",
       "    </tr>\n",
       "    <tr>\n",
       "      <th>58644</th>\n",
       "      <td>31</td>\n",
       "      <td>75000</td>\n",
       "      <td>MORTGAGE</td>\n",
       "      <td>2.0</td>\n",
       "      <td>VENTURE</td>\n",
       "      <td>B</td>\n",
       "      <td>15000</td>\n",
       "      <td>11.11</td>\n",
       "      <td>0.20</td>\n",
       "      <td>N</td>\n",
       "      <td>5</td>\n",
       "      <td>0</td>\n",
       "    </tr>\n",
       "  </tbody>\n",
       "</table>\n",
       "<p>58645 rows × 12 columns</p>\n",
       "</div>"
      ],
      "text/plain": [
       "       person_age  person_income person_home_ownership  person_emp_length  \\\n",
       "id                                                                          \n",
       "0              37          35000                  RENT                0.0   \n",
       "1              22          56000                   OWN                6.0   \n",
       "2              29          28800                   OWN                8.0   \n",
       "3              30          70000                  RENT               14.0   \n",
       "4              22          60000                  RENT                2.0   \n",
       "...           ...            ...                   ...                ...   \n",
       "58640          34         120000              MORTGAGE                5.0   \n",
       "58641          28          28800                  RENT                0.0   \n",
       "58642          23          44000                  RENT                7.0   \n",
       "58643          22          30000                  RENT                2.0   \n",
       "58644          31          75000              MORTGAGE                2.0   \n",
       "\n",
       "      loan_intent loan_grade  loan_amnt  loan_int_rate  loan_percent_income  \\\n",
       "id                                                                            \n",
       "0       EDUCATION          B       6000          11.49                 0.17   \n",
       "1         MEDICAL          C       4000          13.35                 0.07   \n",
       "2        PERSONAL          A       6000           8.90                 0.21   \n",
       "3         VENTURE          B      12000          11.11                 0.17   \n",
       "4         MEDICAL          A       6000           6.92                 0.10   \n",
       "...           ...        ...        ...            ...                  ...   \n",
       "58640   EDUCATION          D      25000          15.95                 0.21   \n",
       "58641     MEDICAL          C      10000          12.73                 0.35   \n",
       "58642   EDUCATION          D       6800          16.00                 0.15   \n",
       "58643   EDUCATION          A       5000           8.90                 0.17   \n",
       "58644     VENTURE          B      15000          11.11                 0.20   \n",
       "\n",
       "      cb_person_default_on_file  cb_person_cred_hist_length  loan_status  \n",
       "id                                                                        \n",
       "0                             N                          14            0  \n",
       "1                             N                           2            0  \n",
       "2                             N                          10            0  \n",
       "3                             N                           5            0  \n",
       "4                             N                           3            0  \n",
       "...                         ...                         ...          ...  \n",
       "58640                         Y                          10            0  \n",
       "58641                         N                           8            1  \n",
       "58642                         N                           2            1  \n",
       "58643                         N                           3            0  \n",
       "58644                         N                           5            0  \n",
       "\n",
       "[58645 rows x 12 columns]"
      ]
     },
     "execution_count": 3,
     "metadata": {},
     "output_type": "execute_result"
    }
   ],
   "source": [
    "train"
   ]
  },
  {
   "cell_type": "code",
   "execution_count": 4,
   "id": "0e164375",
   "metadata": {
    "execution": {
     "iopub.execute_input": "2024-10-23T14:36:18.860959Z",
     "iopub.status.busy": "2024-10-23T14:36:18.860222Z",
     "iopub.status.idle": "2024-10-23T14:36:18.880219Z",
     "shell.execute_reply": "2024-10-23T14:36:18.879281Z"
    },
    "papermill": {
     "duration": 0.030007,
     "end_time": "2024-10-23T14:36:18.882307",
     "exception": false,
     "start_time": "2024-10-23T14:36:18.852300",
     "status": "completed"
    },
    "tags": []
   },
   "outputs": [
    {
     "data": {
      "text/plain": [
       "person_age                    0\n",
       "person_income                 0\n",
       "person_home_ownership         0\n",
       "person_emp_length             0\n",
       "loan_intent                   0\n",
       "loan_grade                    0\n",
       "loan_amnt                     0\n",
       "loan_int_rate                 0\n",
       "loan_percent_income           0\n",
       "cb_person_default_on_file     0\n",
       "cb_person_cred_hist_length    0\n",
       "loan_status                   0\n",
       "dtype: int64"
      ]
     },
     "execution_count": 4,
     "metadata": {},
     "output_type": "execute_result"
    }
   ],
   "source": [
    "train.isnull().sum()"
   ]
  },
  {
   "cell_type": "code",
   "execution_count": 5,
   "id": "9633568d",
   "metadata": {
    "execution": {
     "iopub.execute_input": "2024-10-23T14:36:18.898942Z",
     "iopub.status.busy": "2024-10-23T14:36:18.898008Z",
     "iopub.status.idle": "2024-10-23T14:36:18.910852Z",
     "shell.execute_reply": "2024-10-23T14:36:18.909926Z"
    },
    "papermill": {
     "duration": 0.02281,
     "end_time": "2024-10-23T14:36:18.912888",
     "exception": false,
     "start_time": "2024-10-23T14:36:18.890078",
     "status": "completed"
    },
    "tags": []
   },
   "outputs": [
    {
     "data": {
      "text/plain": [
       "person_home_ownership\n",
       "RENT        30594\n",
       "MORTGAGE    24824\n",
       "OWN          3138\n",
       "OTHER          89\n",
       "Name: count, dtype: int64"
      ]
     },
     "execution_count": 5,
     "metadata": {},
     "output_type": "execute_result"
    }
   ],
   "source": [
    "train['person_home_ownership'].value_counts()"
   ]
  },
  {
   "cell_type": "code",
   "execution_count": 6,
   "id": "3b491d40",
   "metadata": {
    "execution": {
     "iopub.execute_input": "2024-10-23T14:36:18.928473Z",
     "iopub.status.busy": "2024-10-23T14:36:18.927864Z",
     "iopub.status.idle": "2024-10-23T14:36:18.938892Z",
     "shell.execute_reply": "2024-10-23T14:36:18.937912Z"
    },
    "papermill": {
     "duration": 0.021003,
     "end_time": "2024-10-23T14:36:18.940809",
     "exception": false,
     "start_time": "2024-10-23T14:36:18.919806",
     "status": "completed"
    },
    "tags": []
   },
   "outputs": [
    {
     "data": {
      "text/plain": [
       "loan_intent\n",
       "EDUCATION            12271\n",
       "MEDICAL              10934\n",
       "PERSONAL             10016\n",
       "VENTURE              10011\n",
       "DEBTCONSOLIDATION     9133\n",
       "HOMEIMPROVEMENT       6280\n",
       "Name: count, dtype: int64"
      ]
     },
     "execution_count": 6,
     "metadata": {},
     "output_type": "execute_result"
    }
   ],
   "source": [
    "train['loan_intent'].value_counts()"
   ]
  },
  {
   "cell_type": "code",
   "execution_count": 7,
   "id": "f7cd8ddc",
   "metadata": {
    "execution": {
     "iopub.execute_input": "2024-10-23T14:36:18.955999Z",
     "iopub.status.busy": "2024-10-23T14:36:18.955661Z",
     "iopub.status.idle": "2024-10-23T14:36:18.966291Z",
     "shell.execute_reply": "2024-10-23T14:36:18.965422Z"
    },
    "papermill": {
     "duration": 0.020436,
     "end_time": "2024-10-23T14:36:18.968359",
     "exception": false,
     "start_time": "2024-10-23T14:36:18.947923",
     "status": "completed"
    },
    "tags": []
   },
   "outputs": [
    {
     "data": {
      "text/plain": [
       "loan_grade\n",
       "A    20984\n",
       "B    20400\n",
       "C    11036\n",
       "D     5034\n",
       "E     1009\n",
       "F      149\n",
       "G       33\n",
       "Name: count, dtype: int64"
      ]
     },
     "execution_count": 7,
     "metadata": {},
     "output_type": "execute_result"
    }
   ],
   "source": [
    "train['loan_grade'].value_counts()"
   ]
  },
  {
   "cell_type": "code",
   "execution_count": 8,
   "id": "4c57bab6",
   "metadata": {
    "execution": {
     "iopub.execute_input": "2024-10-23T14:36:18.984321Z",
     "iopub.status.busy": "2024-10-23T14:36:18.983922Z",
     "iopub.status.idle": "2024-10-23T14:36:18.994932Z",
     "shell.execute_reply": "2024-10-23T14:36:18.994030Z"
    },
    "papermill": {
     "duration": 0.021269,
     "end_time": "2024-10-23T14:36:18.996860",
     "exception": false,
     "start_time": "2024-10-23T14:36:18.975591",
     "status": "completed"
    },
    "tags": []
   },
   "outputs": [
    {
     "data": {
      "text/plain": [
       "cb_person_default_on_file\n",
       "N    49943\n",
       "Y     8702\n",
       "Name: count, dtype: int64"
      ]
     },
     "execution_count": 8,
     "metadata": {},
     "output_type": "execute_result"
    }
   ],
   "source": [
    "train['cb_person_default_on_file'].value_counts()"
   ]
  },
  {
   "cell_type": "code",
   "execution_count": 9,
   "id": "15c8fc84",
   "metadata": {
    "execution": {
     "iopub.execute_input": "2024-10-23T14:36:19.013201Z",
     "iopub.status.busy": "2024-10-23T14:36:19.012422Z",
     "iopub.status.idle": "2024-10-23T14:36:19.035980Z",
     "shell.execute_reply": "2024-10-23T14:36:19.034950Z"
    },
    "papermill": {
     "duration": 0.033993,
     "end_time": "2024-10-23T14:36:19.038101",
     "exception": false,
     "start_time": "2024-10-23T14:36:19.004108",
     "status": "completed"
    },
    "tags": []
   },
   "outputs": [
    {
     "data": {
      "text/plain": [
       "loan_intent        loan_status\n",
       "DEBTCONSOLIDATION  0               7404\n",
       "                   1               1729\n",
       "EDUCATION          0              10949\n",
       "                   1               1322\n",
       "HOMEIMPROVEMENT    0               5189\n",
       "                   1               1091\n",
       "MEDICAL            0               8985\n",
       "                   1               1949\n",
       "PERSONAL           0               8686\n",
       "                   1               1330\n",
       "VENTURE            0               9082\n",
       "                   1                929\n",
       "Name: count, dtype: int64"
      ]
     },
     "execution_count": 9,
     "metadata": {},
     "output_type": "execute_result"
    }
   ],
   "source": [
    "status_count_by_intent = train.groupby('loan_intent')['loan_status']\n",
    "status_count_by_intent.value_counts()"
   ]
  },
  {
   "cell_type": "code",
   "execution_count": 10,
   "id": "f9c735ce",
   "metadata": {
    "execution": {
     "iopub.execute_input": "2024-10-23T14:36:19.054663Z",
     "iopub.status.busy": "2024-10-23T14:36:19.054029Z",
     "iopub.status.idle": "2024-10-23T14:36:19.070114Z",
     "shell.execute_reply": "2024-10-23T14:36:19.069192Z"
    },
    "papermill": {
     "duration": 0.026722,
     "end_time": "2024-10-23T14:36:19.072070",
     "exception": false,
     "start_time": "2024-10-23T14:36:19.045348",
     "status": "completed"
    },
    "tags": []
   },
   "outputs": [
    {
     "data": {
      "text/plain": [
       "person_home_ownership  loan_status\n",
       "MORTGAGE               0              23341\n",
       "                       1               1483\n",
       "OTHER                  0                 74\n",
       "                       1                 15\n",
       "OWN                    0               3095\n",
       "                       1                 43\n",
       "RENT                   0              23785\n",
       "                       1               6809\n",
       "Name: count, dtype: int64"
      ]
     },
     "execution_count": 10,
     "metadata": {},
     "output_type": "execute_result"
    }
   ],
   "source": [
    "status_count_by_home_ownership = train.groupby('person_home_ownership')['loan_status']\n",
    "status_count_by_home_ownership.value_counts()"
   ]
  },
  {
   "cell_type": "code",
   "execution_count": 11,
   "id": "67001bc8",
   "metadata": {
    "execution": {
     "iopub.execute_input": "2024-10-23T14:36:19.088405Z",
     "iopub.status.busy": "2024-10-23T14:36:19.087816Z",
     "iopub.status.idle": "2024-10-23T14:36:19.093035Z",
     "shell.execute_reply": "2024-10-23T14:36:19.092137Z"
    },
    "papermill": {
     "duration": 0.015623,
     "end_time": "2024-10-23T14:36:19.095062",
     "exception": false,
     "start_time": "2024-10-23T14:36:19.079439",
     "status": "completed"
    },
    "tags": []
   },
   "outputs": [],
   "source": [
    "def feature_engineer(df):\n",
    "    df['income_to_loan_ratio'] = df['person_income'] / df['loan_amnt']\n",
    "    df['loan_burden'] = (df['loan_int_rate'] * df['loan_amnt']) / df['person_income']\n",
    "    df['income_percentile'] = df['person_income'].rank(pct = True)\n",
    "    return df"
   ]
  },
  {
   "cell_type": "code",
   "execution_count": 12,
   "id": "5d0eb8b7",
   "metadata": {
    "execution": {
     "iopub.execute_input": "2024-10-23T14:36:19.111700Z",
     "iopub.status.busy": "2024-10-23T14:36:19.111216Z",
     "iopub.status.idle": "2024-10-23T14:36:19.140878Z",
     "shell.execute_reply": "2024-10-23T14:36:19.139870Z"
    },
    "papermill": {
     "duration": 0.040192,
     "end_time": "2024-10-23T14:36:19.143074",
     "exception": false,
     "start_time": "2024-10-23T14:36:19.102882",
     "status": "completed"
    },
    "tags": []
   },
   "outputs": [
    {
     "data": {
      "text/html": [
       "<div>\n",
       "<style scoped>\n",
       "    .dataframe tbody tr th:only-of-type {\n",
       "        vertical-align: middle;\n",
       "    }\n",
       "\n",
       "    .dataframe tbody tr th {\n",
       "        vertical-align: top;\n",
       "    }\n",
       "\n",
       "    .dataframe thead th {\n",
       "        text-align: right;\n",
       "    }\n",
       "</style>\n",
       "<table border=\"1\" class=\"dataframe\">\n",
       "  <thead>\n",
       "    <tr style=\"text-align: right;\">\n",
       "      <th></th>\n",
       "      <th>person_age</th>\n",
       "      <th>person_income</th>\n",
       "      <th>person_home_ownership</th>\n",
       "      <th>person_emp_length</th>\n",
       "      <th>loan_intent</th>\n",
       "      <th>loan_grade</th>\n",
       "      <th>loan_amnt</th>\n",
       "      <th>loan_int_rate</th>\n",
       "      <th>loan_percent_income</th>\n",
       "      <th>cb_person_default_on_file</th>\n",
       "      <th>cb_person_cred_hist_length</th>\n",
       "      <th>loan_status</th>\n",
       "      <th>income_to_loan_ratio</th>\n",
       "      <th>loan_burden</th>\n",
       "      <th>income_percentile</th>\n",
       "    </tr>\n",
       "    <tr>\n",
       "      <th>id</th>\n",
       "      <th></th>\n",
       "      <th></th>\n",
       "      <th></th>\n",
       "      <th></th>\n",
       "      <th></th>\n",
       "      <th></th>\n",
       "      <th></th>\n",
       "      <th></th>\n",
       "      <th></th>\n",
       "      <th></th>\n",
       "      <th></th>\n",
       "      <th></th>\n",
       "      <th></th>\n",
       "      <th></th>\n",
       "      <th></th>\n",
       "    </tr>\n",
       "  </thead>\n",
       "  <tbody>\n",
       "    <tr>\n",
       "      <th>0</th>\n",
       "      <td>37</td>\n",
       "      <td>35000</td>\n",
       "      <td>RENT</td>\n",
       "      <td>0.0</td>\n",
       "      <td>EDUCATION</td>\n",
       "      <td>B</td>\n",
       "      <td>6000</td>\n",
       "      <td>11.49</td>\n",
       "      <td>0.17</td>\n",
       "      <td>N</td>\n",
       "      <td>14</td>\n",
       "      <td>0</td>\n",
       "      <td>5.833333</td>\n",
       "      <td>1.969714</td>\n",
       "      <td>0.139603</td>\n",
       "    </tr>\n",
       "    <tr>\n",
       "      <th>1</th>\n",
       "      <td>22</td>\n",
       "      <td>56000</td>\n",
       "      <td>OWN</td>\n",
       "      <td>6.0</td>\n",
       "      <td>MEDICAL</td>\n",
       "      <td>C</td>\n",
       "      <td>4000</td>\n",
       "      <td>13.35</td>\n",
       "      <td>0.07</td>\n",
       "      <td>N</td>\n",
       "      <td>2</td>\n",
       "      <td>0</td>\n",
       "      <td>14.000000</td>\n",
       "      <td>0.953571</td>\n",
       "      <td>0.483784</td>\n",
       "    </tr>\n",
       "    <tr>\n",
       "      <th>2</th>\n",
       "      <td>29</td>\n",
       "      <td>28800</td>\n",
       "      <td>OWN</td>\n",
       "      <td>8.0</td>\n",
       "      <td>PERSONAL</td>\n",
       "      <td>A</td>\n",
       "      <td>6000</td>\n",
       "      <td>8.90</td>\n",
       "      <td>0.21</td>\n",
       "      <td>N</td>\n",
       "      <td>10</td>\n",
       "      <td>0</td>\n",
       "      <td>4.800000</td>\n",
       "      <td>1.854167</td>\n",
       "      <td>0.050951</td>\n",
       "    </tr>\n",
       "    <tr>\n",
       "      <th>3</th>\n",
       "      <td>30</td>\n",
       "      <td>70000</td>\n",
       "      <td>RENT</td>\n",
       "      <td>14.0</td>\n",
       "      <td>VENTURE</td>\n",
       "      <td>B</td>\n",
       "      <td>12000</td>\n",
       "      <td>11.11</td>\n",
       "      <td>0.17</td>\n",
       "      <td>N</td>\n",
       "      <td>5</td>\n",
       "      <td>0</td>\n",
       "      <td>5.833333</td>\n",
       "      <td>1.904571</td>\n",
       "      <td>0.677475</td>\n",
       "    </tr>\n",
       "    <tr>\n",
       "      <th>4</th>\n",
       "      <td>22</td>\n",
       "      <td>60000</td>\n",
       "      <td>RENT</td>\n",
       "      <td>2.0</td>\n",
       "      <td>MEDICAL</td>\n",
       "      <td>A</td>\n",
       "      <td>6000</td>\n",
       "      <td>6.92</td>\n",
       "      <td>0.10</td>\n",
       "      <td>N</td>\n",
       "      <td>3</td>\n",
       "      <td>0</td>\n",
       "      <td>10.000000</td>\n",
       "      <td>0.692000</td>\n",
       "      <td>0.546364</td>\n",
       "    </tr>\n",
       "    <tr>\n",
       "      <th>...</th>\n",
       "      <td>...</td>\n",
       "      <td>...</td>\n",
       "      <td>...</td>\n",
       "      <td>...</td>\n",
       "      <td>...</td>\n",
       "      <td>...</td>\n",
       "      <td>...</td>\n",
       "      <td>...</td>\n",
       "      <td>...</td>\n",
       "      <td>...</td>\n",
       "      <td>...</td>\n",
       "      <td>...</td>\n",
       "      <td>...</td>\n",
       "      <td>...</td>\n",
       "      <td>...</td>\n",
       "    </tr>\n",
       "    <tr>\n",
       "      <th>58640</th>\n",
       "      <td>34</td>\n",
       "      <td>120000</td>\n",
       "      <td>MORTGAGE</td>\n",
       "      <td>5.0</td>\n",
       "      <td>EDUCATION</td>\n",
       "      <td>D</td>\n",
       "      <td>25000</td>\n",
       "      <td>15.95</td>\n",
       "      <td>0.21</td>\n",
       "      <td>Y</td>\n",
       "      <td>10</td>\n",
       "      <td>0</td>\n",
       "      <td>4.800000</td>\n",
       "      <td>3.322917</td>\n",
       "      <td>0.942382</td>\n",
       "    </tr>\n",
       "    <tr>\n",
       "      <th>58641</th>\n",
       "      <td>28</td>\n",
       "      <td>28800</td>\n",
       "      <td>RENT</td>\n",
       "      <td>0.0</td>\n",
       "      <td>MEDICAL</td>\n",
       "      <td>C</td>\n",
       "      <td>10000</td>\n",
       "      <td>12.73</td>\n",
       "      <td>0.35</td>\n",
       "      <td>N</td>\n",
       "      <td>8</td>\n",
       "      <td>1</td>\n",
       "      <td>2.880000</td>\n",
       "      <td>4.420139</td>\n",
       "      <td>0.050951</td>\n",
       "    </tr>\n",
       "    <tr>\n",
       "      <th>58642</th>\n",
       "      <td>23</td>\n",
       "      <td>44000</td>\n",
       "      <td>RENT</td>\n",
       "      <td>7.0</td>\n",
       "      <td>EDUCATION</td>\n",
       "      <td>D</td>\n",
       "      <td>6800</td>\n",
       "      <td>16.00</td>\n",
       "      <td>0.15</td>\n",
       "      <td>N</td>\n",
       "      <td>2</td>\n",
       "      <td>1</td>\n",
       "      <td>6.470588</td>\n",
       "      <td>2.472727</td>\n",
       "      <td>0.275190</td>\n",
       "    </tr>\n",
       "    <tr>\n",
       "      <th>58643</th>\n",
       "      <td>22</td>\n",
       "      <td>30000</td>\n",
       "      <td>RENT</td>\n",
       "      <td>2.0</td>\n",
       "      <td>EDUCATION</td>\n",
       "      <td>A</td>\n",
       "      <td>5000</td>\n",
       "      <td>8.90</td>\n",
       "      <td>0.17</td>\n",
       "      <td>N</td>\n",
       "      <td>3</td>\n",
       "      <td>0</td>\n",
       "      <td>6.000000</td>\n",
       "      <td>1.483333</td>\n",
       "      <td>0.077833</td>\n",
       "    </tr>\n",
       "    <tr>\n",
       "      <th>58644</th>\n",
       "      <td>31</td>\n",
       "      <td>75000</td>\n",
       "      <td>MORTGAGE</td>\n",
       "      <td>2.0</td>\n",
       "      <td>VENTURE</td>\n",
       "      <td>B</td>\n",
       "      <td>15000</td>\n",
       "      <td>11.11</td>\n",
       "      <td>0.20</td>\n",
       "      <td>N</td>\n",
       "      <td>5</td>\n",
       "      <td>0</td>\n",
       "      <td>5.000000</td>\n",
       "      <td>2.222000</td>\n",
       "      <td>0.734760</td>\n",
       "    </tr>\n",
       "  </tbody>\n",
       "</table>\n",
       "<p>58645 rows × 15 columns</p>\n",
       "</div>"
      ],
      "text/plain": [
       "       person_age  person_income person_home_ownership  person_emp_length  \\\n",
       "id                                                                          \n",
       "0              37          35000                  RENT                0.0   \n",
       "1              22          56000                   OWN                6.0   \n",
       "2              29          28800                   OWN                8.0   \n",
       "3              30          70000                  RENT               14.0   \n",
       "4              22          60000                  RENT                2.0   \n",
       "...           ...            ...                   ...                ...   \n",
       "58640          34         120000              MORTGAGE                5.0   \n",
       "58641          28          28800                  RENT                0.0   \n",
       "58642          23          44000                  RENT                7.0   \n",
       "58643          22          30000                  RENT                2.0   \n",
       "58644          31          75000              MORTGAGE                2.0   \n",
       "\n",
       "      loan_intent loan_grade  loan_amnt  loan_int_rate  loan_percent_income  \\\n",
       "id                                                                            \n",
       "0       EDUCATION          B       6000          11.49                 0.17   \n",
       "1         MEDICAL          C       4000          13.35                 0.07   \n",
       "2        PERSONAL          A       6000           8.90                 0.21   \n",
       "3         VENTURE          B      12000          11.11                 0.17   \n",
       "4         MEDICAL          A       6000           6.92                 0.10   \n",
       "...           ...        ...        ...            ...                  ...   \n",
       "58640   EDUCATION          D      25000          15.95                 0.21   \n",
       "58641     MEDICAL          C      10000          12.73                 0.35   \n",
       "58642   EDUCATION          D       6800          16.00                 0.15   \n",
       "58643   EDUCATION          A       5000           8.90                 0.17   \n",
       "58644     VENTURE          B      15000          11.11                 0.20   \n",
       "\n",
       "      cb_person_default_on_file  cb_person_cred_hist_length  loan_status  \\\n",
       "id                                                                         \n",
       "0                             N                          14            0   \n",
       "1                             N                           2            0   \n",
       "2                             N                          10            0   \n",
       "3                             N                           5            0   \n",
       "4                             N                           3            0   \n",
       "...                         ...                         ...          ...   \n",
       "58640                         Y                          10            0   \n",
       "58641                         N                           8            1   \n",
       "58642                         N                           2            1   \n",
       "58643                         N                           3            0   \n",
       "58644                         N                           5            0   \n",
       "\n",
       "       income_to_loan_ratio  loan_burden  income_percentile  \n",
       "id                                                           \n",
       "0                  5.833333     1.969714           0.139603  \n",
       "1                 14.000000     0.953571           0.483784  \n",
       "2                  4.800000     1.854167           0.050951  \n",
       "3                  5.833333     1.904571           0.677475  \n",
       "4                 10.000000     0.692000           0.546364  \n",
       "...                     ...          ...                ...  \n",
       "58640              4.800000     3.322917           0.942382  \n",
       "58641              2.880000     4.420139           0.050951  \n",
       "58642              6.470588     2.472727           0.275190  \n",
       "58643              6.000000     1.483333           0.077833  \n",
       "58644              5.000000     2.222000           0.734760  \n",
       "\n",
       "[58645 rows x 15 columns]"
      ]
     },
     "execution_count": 12,
     "metadata": {},
     "output_type": "execute_result"
    }
   ],
   "source": [
    "train = feature_engineer(train)\n",
    "train"
   ]
  },
  {
   "cell_type": "code",
   "execution_count": 13,
   "id": "44315bf7",
   "metadata": {
    "execution": {
     "iopub.execute_input": "2024-10-23T14:36:19.160044Z",
     "iopub.status.busy": "2024-10-23T14:36:19.159498Z",
     "iopub.status.idle": "2024-10-23T14:36:19.167700Z",
     "shell.execute_reply": "2024-10-23T14:36:19.166760Z"
    },
    "papermill": {
     "duration": 0.018884,
     "end_time": "2024-10-23T14:36:19.169711",
     "exception": false,
     "start_time": "2024-10-23T14:36:19.150827",
     "status": "completed"
    },
    "tags": []
   },
   "outputs": [],
   "source": [
    "X = train.drop(columns = \"loan_status\")\n",
    "y = train['loan_status']"
   ]
  },
  {
   "cell_type": "code",
   "execution_count": 16,
   "id": "f6a0cd88",
   "metadata": {
    "execution": {
     "iopub.execute_input": "2024-10-23T14:36:19.187228Z",
     "iopub.status.busy": "2024-10-23T14:36:19.186357Z",
     "iopub.status.idle": "2024-10-23T14:36:20.401465Z",
     "shell.execute_reply": "2024-10-23T14:36:20.400632Z"
    },
    "papermill": {
     "duration": 1.226456,
     "end_time": "2024-10-23T14:36:20.403979",
     "exception": false,
     "start_time": "2024-10-23T14:36:19.177523",
     "status": "completed"
    },
    "tags": []
   },
   "outputs": [],
   "source": [
    "from sklearn.model_selection import train_test_split\n",
    "from sklearn.preprocessing import StandardScaler, OneHotEncoder, LabelEncoder"
   ]
  },
  {
   "cell_type": "code",
   "execution_count": 17,
   "id": "30a83f0c",
   "metadata": {
    "execution": {
     "iopub.execute_input": "2024-10-23T14:36:20.422093Z",
     "iopub.status.busy": "2024-10-23T14:36:20.421123Z",
     "iopub.status.idle": "2024-10-23T14:36:20.426301Z",
     "shell.execute_reply": "2024-10-23T14:36:20.425389Z"
    },
    "papermill": {
     "duration": 0.016144,
     "end_time": "2024-10-23T14:36:20.428218",
     "exception": false,
     "start_time": "2024-10-23T14:36:20.412074",
     "status": "completed"
    },
    "tags": []
   },
   "outputs": [],
   "source": [
    "num_features = ['person_age', 'person_income', 'person_emp_length', 'loan_amnt', 'loan_percent_income',\n",
    "                 'cb_person_cred_hist_length', 'income_to_loan_ratio', 'loan_burden', 'income_percentile']\n",
    "cat_features = ['person_home_ownership', 'loan_intent', 'loan_grade', 'cb_person_default_on_file']"
   ]
  },
  {
   "cell_type": "code",
   "execution_count": 18,
   "id": "cc466a74",
   "metadata": {
    "execution": {
     "iopub.execute_input": "2024-10-23T14:36:20.445190Z",
     "iopub.status.busy": "2024-10-23T14:36:20.444811Z",
     "iopub.status.idle": "2024-10-23T14:36:20.450995Z",
     "shell.execute_reply": "2024-10-23T14:36:20.450034Z"
    },
    "papermill": {
     "duration": 0.017024,
     "end_time": "2024-10-23T14:36:20.452954",
     "exception": false,
     "start_time": "2024-10-23T14:36:20.435930",
     "status": "completed"
    },
    "tags": []
   },
   "outputs": [],
   "source": [
    "scaler = StandardScaler()\n",
    "\n",
    "def preprocessing(df):    \n",
    "    for feature in cat_features:\n",
    "        if df[feature].nunique() <= 2:\n",
    "            df[feature] = LabelEncoder().fit_transform(df[feature])\n",
    "        else:\n",
    "            onehot_encoded = pd.get_dummies(df[feature], prefix=feature, drop_first=True)\n",
    "            onehot_encoded = onehot_encoded.astype(int)\n",
    "            df = pd.concat([df, onehot_encoded], axis=1)\n",
    "            df.drop(columns=[feature], inplace=True)\n",
    "    return df"
   ]
  },
  {
   "cell_type": "code",
   "execution_count": 19,
   "id": "ec62ebda",
   "metadata": {
    "execution": {
     "iopub.execute_input": "2024-10-23T14:36:20.470230Z",
     "iopub.status.busy": "2024-10-23T14:36:20.469830Z",
     "iopub.status.idle": "2024-10-23T14:36:20.498762Z",
     "shell.execute_reply": "2024-10-23T14:36:20.497912Z"
    },
    "papermill": {
     "duration": 0.040209,
     "end_time": "2024-10-23T14:36:20.500948",
     "exception": false,
     "start_time": "2024-10-23T14:36:20.460739",
     "status": "completed"
    },
    "tags": []
   },
   "outputs": [],
   "source": [
    "X_train, X_valid, y_train, y_valid = train_test_split(X, y, test_size = 0.2, random_state = 42)"
   ]
  },
  {
   "cell_type": "code",
   "execution_count": 20,
   "id": "0b316ed0",
   "metadata": {
    "execution": {
     "iopub.execute_input": "2024-10-23T14:36:20.518424Z",
     "iopub.status.busy": "2024-10-23T14:36:20.518047Z",
     "iopub.status.idle": "2024-10-23T14:36:20.618372Z",
     "shell.execute_reply": "2024-10-23T14:36:20.617513Z"
    },
    "papermill": {
     "duration": 0.111826,
     "end_time": "2024-10-23T14:36:20.620766",
     "exception": false,
     "start_time": "2024-10-23T14:36:20.508940",
     "status": "completed"
    },
    "tags": []
   },
   "outputs": [],
   "source": [
    "X_train = preprocessing(X_train)\n",
    "X_valid = preprocessing(X_valid)"
   ]
  },
  {
   "cell_type": "code",
   "execution_count": 21,
   "id": "af825810",
   "metadata": {
    "execution": {
     "iopub.execute_input": "2024-10-23T14:36:20.638062Z",
     "iopub.status.busy": "2024-10-23T14:36:20.637682Z",
     "iopub.status.idle": "2024-10-23T14:36:32.889495Z",
     "shell.execute_reply": "2024-10-23T14:36:32.888602Z"
    },
    "papermill": {
     "duration": 12.263159,
     "end_time": "2024-10-23T14:36:32.891882",
     "exception": false,
     "start_time": "2024-10-23T14:36:20.628723",
     "status": "completed"
    },
    "tags": []
   },
   "outputs": [],
   "source": [
    "import tensorflow as tf\n",
    "from tensorflow import keras\n",
    "from tensorflow.keras import layers\n",
    "from tensorflow.keras import callbacks"
   ]
  },
  {
   "cell_type": "code",
   "execution_count": 22,
   "id": "1b74ac33",
   "metadata": {
    "execution": {
     "iopub.execute_input": "2024-10-23T14:36:32.909242Z",
     "iopub.status.busy": "2024-10-23T14:36:32.908626Z",
     "iopub.status.idle": "2024-10-23T14:36:32.913412Z",
     "shell.execute_reply": "2024-10-23T14:36:32.912508Z"
    },
    "papermill": {
     "duration": 0.015571,
     "end_time": "2024-10-23T14:36:32.915396",
     "exception": false,
     "start_time": "2024-10-23T14:36:32.899825",
     "status": "completed"
    },
    "tags": []
   },
   "outputs": [],
   "source": [
    "input_shape = [X_train.shape[1]]"
   ]
  },
  {
   "cell_type": "code",
   "execution_count": 23,
   "id": "57f5c211",
   "metadata": {
    "execution": {
     "iopub.execute_input": "2024-10-23T14:36:32.932784Z",
     "iopub.status.busy": "2024-10-23T14:36:32.931942Z",
     "iopub.status.idle": "2024-10-23T14:36:33.080484Z",
     "shell.execute_reply": "2024-10-23T14:36:33.079406Z"
    },
    "papermill": {
     "duration": 0.159578,
     "end_time": "2024-10-23T14:36:33.082765",
     "exception": false,
     "start_time": "2024-10-23T14:36:32.923187",
     "status": "completed"
    },
    "tags": []
   },
   "outputs": [
    {
     "name": "stderr",
     "output_type": "stream",
     "text": [
      "c:\\Users\\Divyanshu\\AppData\\Local\\Programs\\Python\\Python312\\Lib\\site-packages\\keras\\src\\layers\\normalization\\batch_normalization.py:142: UserWarning: Do not pass an `input_shape`/`input_dim` argument to a layer. When using Sequential models, prefer using an `Input(shape)` object as the first layer in the model instead.\n",
      "  super().__init__(**kwargs)\n"
     ]
    }
   ],
   "source": [
    "model = keras.Sequential([\n",
    "    layers.BatchNormalization(input_shape = input_shape),\n",
    "    \n",
    "    layers.Dense(256, activation = 'relu'),\n",
    "    layers.BatchNormalization(),\n",
    "    layers.Dropout(0.3),\n",
    "    \n",
    "    layers.Dense(256, activation = 'relu'),\n",
    "    layers.BatchNormalization(),\n",
    "    layers.Dropout(0.3),\n",
    "    \n",
    "    layers.Dense(256, activation = 'relu'),\n",
    "    layers.BatchNormalization(),\n",
    "    layers.Dropout(0.3),\n",
    "    \n",
    "    layers.Dense(256, activation = 'relu'),\n",
    "    layers.BatchNormalization(),\n",
    "    layers.Dropout(0.3),\n",
    "    \n",
    "    layers.Dense(1, activation = 'sigmoid')\n",
    "])"
   ]
  },
  {
   "cell_type": "code",
   "execution_count": 24,
   "id": "1adf99a9",
   "metadata": {
    "execution": {
     "iopub.execute_input": "2024-10-23T14:36:33.100997Z",
     "iopub.status.busy": "2024-10-23T14:36:33.100092Z",
     "iopub.status.idle": "2024-10-23T14:36:33.114357Z",
     "shell.execute_reply": "2024-10-23T14:36:33.113325Z"
    },
    "papermill": {
     "duration": 0.026545,
     "end_time": "2024-10-23T14:36:33.117245",
     "exception": false,
     "start_time": "2024-10-23T14:36:33.090700",
     "status": "completed"
    },
    "tags": []
   },
   "outputs": [],
   "source": [
    "model.compile(\n",
    "    optimizer = 'adam',\n",
    "    loss = 'binary_crossentropy',\n",
    "    metrics = ['binary_accuracy']\n",
    ")"
   ]
  },
  {
   "cell_type": "code",
   "execution_count": 25,
   "id": "b8aa1e84",
   "metadata": {
    "execution": {
     "iopub.execute_input": "2024-10-23T14:36:33.135487Z",
     "iopub.status.busy": "2024-10-23T14:36:33.135076Z",
     "iopub.status.idle": "2024-10-23T14:37:04.270039Z",
     "shell.execute_reply": "2024-10-23T14:37:04.268929Z"
    },
    "papermill": {
     "duration": 31.146481,
     "end_time": "2024-10-23T14:37:04.272350",
     "exception": false,
     "start_time": "2024-10-23T14:36:33.125869",
     "status": "completed"
    },
    "tags": []
   },
   "outputs": [
    {
     "name": "stdout",
     "output_type": "stream",
     "text": [
      "Epoch 1/200\n",
      "\u001b[1m92/92\u001b[0m \u001b[32m━━━━━━━━━━━━━━━━━━━━\u001b[0m\u001b[37m\u001b[0m \u001b[1m8s\u001b[0m 25ms/step - binary_accuracy: 0.7669 - loss: 0.5808 - val_binary_accuracy: 0.8702 - val_loss: 0.3623\n",
      "Epoch 2/200\n",
      "\u001b[1m92/92\u001b[0m \u001b[32m━━━━━━━━━━━━━━━━━━━━\u001b[0m\u001b[37m\u001b[0m \u001b[1m2s\u001b[0m 20ms/step - binary_accuracy: 0.9158 - loss: 0.2808 - val_binary_accuracy: 0.8710 - val_loss: 0.3599\n",
      "Epoch 3/200\n",
      "\u001b[1m92/92\u001b[0m \u001b[32m━━━━━━━━━━━━━━━━━━━━\u001b[0m\u001b[37m\u001b[0m \u001b[1m2s\u001b[0m 20ms/step - binary_accuracy: 0.9210 - loss: 0.2469 - val_binary_accuracy: 0.8991 - val_loss: 0.2971\n",
      "Epoch 4/200\n",
      "\u001b[1m92/92\u001b[0m \u001b[32m━━━━━━━━━━━━━━━━━━━━\u001b[0m\u001b[37m\u001b[0m \u001b[1m2s\u001b[0m 20ms/step - binary_accuracy: 0.9268 - loss: 0.2280 - val_binary_accuracy: 0.9165 - val_loss: 0.2357\n",
      "Epoch 5/200\n",
      "\u001b[1m92/92\u001b[0m \u001b[32m━━━━━━━━━━━━━━━━━━━━\u001b[0m\u001b[37m\u001b[0m \u001b[1m2s\u001b[0m 20ms/step - binary_accuracy: 0.9281 - loss: 0.2205 - val_binary_accuracy: 0.9280 - val_loss: 0.2085\n",
      "Epoch 6/200\n",
      "\u001b[1m92/92\u001b[0m \u001b[32m━━━━━━━━━━━━━━━━━━━━\u001b[0m\u001b[37m\u001b[0m \u001b[1m2s\u001b[0m 20ms/step - binary_accuracy: 0.9319 - loss: 0.2112 - val_binary_accuracy: 0.9361 - val_loss: 0.1906\n",
      "Epoch 7/200\n",
      "\u001b[1m92/92\u001b[0m \u001b[32m━━━━━━━━━━━━━━━━━━━━\u001b[0m\u001b[37m\u001b[0m \u001b[1m2s\u001b[0m 21ms/step - binary_accuracy: 0.9354 - loss: 0.2025 - val_binary_accuracy: 0.9422 - val_loss: 0.1853\n",
      "Epoch 8/200\n",
      "\u001b[1m92/92\u001b[0m \u001b[32m━━━━━━━━━━━━━━━━━━━━\u001b[0m\u001b[37m\u001b[0m \u001b[1m2s\u001b[0m 23ms/step - binary_accuracy: 0.9375 - loss: 0.1998 - val_binary_accuracy: 0.9457 - val_loss: 0.1802\n",
      "Epoch 9/200\n",
      "\u001b[1m92/92\u001b[0m \u001b[32m━━━━━━━━━━━━━━━━━━━━\u001b[0m\u001b[37m\u001b[0m \u001b[1m2s\u001b[0m 20ms/step - binary_accuracy: 0.9369 - loss: 0.1991 - val_binary_accuracy: 0.9464 - val_loss: 0.1772\n",
      "Epoch 10/200\n",
      "\u001b[1m92/92\u001b[0m \u001b[32m━━━━━━━━━━━━━━━━━━━━\u001b[0m\u001b[37m\u001b[0m \u001b[1m2s\u001b[0m 21ms/step - binary_accuracy: 0.9364 - loss: 0.1976 - val_binary_accuracy: 0.9477 - val_loss: 0.1786\n",
      "Epoch 11/200\n",
      "\u001b[1m92/92\u001b[0m \u001b[32m━━━━━━━━━━━━━━━━━━━━\u001b[0m\u001b[37m\u001b[0m \u001b[1m2s\u001b[0m 21ms/step - binary_accuracy: 0.9383 - loss: 0.1945 - val_binary_accuracy: 0.9487 - val_loss: 0.1762\n",
      "Epoch 12/200\n",
      "\u001b[1m92/92\u001b[0m \u001b[32m━━━━━━━━━━━━━━━━━━━━\u001b[0m\u001b[37m\u001b[0m \u001b[1m2s\u001b[0m 23ms/step - binary_accuracy: 0.9396 - loss: 0.1901 - val_binary_accuracy: 0.9488 - val_loss: 0.1756\n",
      "Epoch 13/200\n",
      "\u001b[1m92/92\u001b[0m \u001b[32m━━━━━━━━━━━━━━━━━━━━\u001b[0m\u001b[37m\u001b[0m \u001b[1m2s\u001b[0m 19ms/step - binary_accuracy: 0.9417 - loss: 0.1900 - val_binary_accuracy: 0.9471 - val_loss: 0.1768\n",
      "Epoch 14/200\n",
      "\u001b[1m92/92\u001b[0m \u001b[32m━━━━━━━━━━━━━━━━━━━━\u001b[0m\u001b[37m\u001b[0m \u001b[1m2s\u001b[0m 21ms/step - binary_accuracy: 0.9419 - loss: 0.1842 - val_binary_accuracy: 0.9487 - val_loss: 0.1739\n",
      "Epoch 15/200\n",
      "\u001b[1m92/92\u001b[0m \u001b[32m━━━━━━━━━━━━━━━━━━━━\u001b[0m\u001b[37m\u001b[0m \u001b[1m2s\u001b[0m 20ms/step - binary_accuracy: 0.9401 - loss: 0.1872 - val_binary_accuracy: 0.9480 - val_loss: 0.1776\n",
      "Epoch 16/200\n",
      "\u001b[1m92/92\u001b[0m \u001b[32m━━━━━━━━━━━━━━━━━━━━\u001b[0m\u001b[37m\u001b[0m \u001b[1m2s\u001b[0m 20ms/step - binary_accuracy: 0.9403 - loss: 0.1875 - val_binary_accuracy: 0.9471 - val_loss: 0.1793\n",
      "Epoch 17/200\n",
      "\u001b[1m92/92\u001b[0m \u001b[32m━━━━━━━━━━━━━━━━━━━━\u001b[0m\u001b[37m\u001b[0m \u001b[1m2s\u001b[0m 20ms/step - binary_accuracy: 0.9414 - loss: 0.1866 - val_binary_accuracy: 0.9483 - val_loss: 0.1729\n",
      "Epoch 18/200\n",
      "\u001b[1m92/92\u001b[0m \u001b[32m━━━━━━━━━━━━━━━━━━━━\u001b[0m\u001b[37m\u001b[0m \u001b[1m2s\u001b[0m 19ms/step - binary_accuracy: 0.9416 - loss: 0.1861 - val_binary_accuracy: 0.9482 - val_loss: 0.1763\n",
      "Epoch 19/200\n",
      "\u001b[1m92/92\u001b[0m \u001b[32m━━━━━━━━━━━━━━━━━━━━\u001b[0m\u001b[37m\u001b[0m \u001b[1m2s\u001b[0m 19ms/step - binary_accuracy: 0.9428 - loss: 0.1820 - val_binary_accuracy: 0.9483 - val_loss: 0.1759\n",
      "Epoch 20/200\n",
      "\u001b[1m92/92\u001b[0m \u001b[32m━━━━━━━━━━━━━━━━━━━━\u001b[0m\u001b[37m\u001b[0m \u001b[1m3s\u001b[0m 21ms/step - binary_accuracy: 0.9431 - loss: 0.1828 - val_binary_accuracy: 0.9472 - val_loss: 0.1740\n",
      "Epoch 21/200\n",
      "\u001b[1m92/92\u001b[0m \u001b[32m━━━━━━━━━━━━━━━━━━━━\u001b[0m\u001b[37m\u001b[0m \u001b[1m2s\u001b[0m 20ms/step - binary_accuracy: 0.9425 - loss: 0.1829 - val_binary_accuracy: 0.9478 - val_loss: 0.1759\n",
      "Epoch 22/200\n",
      "\u001b[1m92/92\u001b[0m \u001b[32m━━━━━━━━━━━━━━━━━━━━\u001b[0m\u001b[37m\u001b[0m \u001b[1m2s\u001b[0m 21ms/step - binary_accuracy: 0.9427 - loss: 0.1837 - val_binary_accuracy: 0.9491 - val_loss: 0.1750\n"
     ]
    },
    {
     "data": {
      "text/plain": [
       "<keras.src.callbacks.history.History at 0x1df54b836b0>"
      ]
     },
     "execution_count": 25,
     "metadata": {},
     "output_type": "execute_result"
    }
   ],
   "source": [
    "early_stopping = keras.callbacks.EarlyStopping(\n",
    "    patience=5,\n",
    "    min_delta=0.001,\n",
    "    restore_best_weights=True,\n",
    ")\n",
    "model.fit(\n",
    "    X_train, y_train,\n",
    "    validation_data=(X_valid, y_valid),\n",
    "    batch_size=512,\n",
    "    epochs=200,\n",
    "    callbacks=[early_stopping],\n",
    ")"
   ]
  },
  {
   "cell_type": "code",
   "execution_count": 27,
   "id": "01f8659e",
   "metadata": {
    "execution": {
     "iopub.execute_input": "2024-10-23T14:37:04.351918Z",
     "iopub.status.busy": "2024-10-23T14:37:04.351092Z",
     "iopub.status.idle": "2024-10-23T14:37:05.403873Z",
     "shell.execute_reply": "2024-10-23T14:37:05.402822Z"
    },
    "papermill": {
     "duration": 1.095125,
     "end_time": "2024-10-23T14:37:05.406267",
     "exception": false,
     "start_time": "2024-10-23T14:37:04.311142",
     "status": "completed"
    },
    "tags": []
   },
   "outputs": [
    {
     "name": "stdout",
     "output_type": "stream",
     "text": [
      "\u001b[1m367/367\u001b[0m \u001b[32m━━━━━━━━━━━━━━━━━━━━\u001b[0m\u001b[37m\u001b[0m \u001b[1m1s\u001b[0m 2ms/step - binary_accuracy: 0.9492 - loss: 0.1688\n",
      "Test Accuracy: 94.83%\n"
     ]
    }
   ],
   "source": [
    "loss, accuracy = model.evaluate(X_valid, y_valid)\n",
    "print(f\"Test Accuracy: {accuracy * 100:.2f}%\")"
   ]
  }
 ],
 "metadata": {
  "kaggle": {
   "accelerator": "none",
   "dataSources": [
    {
     "databundleVersionId": 9709193,
     "sourceId": 84894,
     "sourceType": "competition"
    }
   ],
   "dockerImageVersionId": 30786,
   "isGpuEnabled": false,
   "isInternetEnabled": true,
   "language": "python",
   "sourceType": "notebook"
  },
  "kernelspec": {
   "display_name": "Python 3",
   "language": "python",
   "name": "python3"
  },
  "language_info": {
   "codemirror_mode": {
    "name": "ipython",
    "version": 3
   },
   "file_extension": ".py",
   "mimetype": "text/x-python",
   "name": "python",
   "nbconvert_exporter": "python",
   "pygments_lexer": "ipython3",
   "version": "3.12.7"
  },
  "papermill": {
   "default_parameters": {},
   "duration": 55.472781,
   "end_time": "2024-10-23T14:37:10.694540",
   "environment_variables": {},
   "exception": null,
   "input_path": "__notebook__.ipynb",
   "output_path": "__notebook__.ipynb",
   "parameters": {},
   "start_time": "2024-10-23T14:36:15.221759",
   "version": "2.6.0"
  }
 },
 "nbformat": 4,
 "nbformat_minor": 5
}
